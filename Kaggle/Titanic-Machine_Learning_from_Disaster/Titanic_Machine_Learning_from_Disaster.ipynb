{
  "nbformat": 4,
  "nbformat_minor": 0,
  "metadata": {
    "colab": {
      "name": "Titanic-Machine_Learning_from_Disaster.ipynb",
      "provenance": [],
      "collapsed_sections": [],
      "toc_visible": true,
      "mount_file_id": "1Y2J-ZfqsPbp4XpzyL8uGl8GEVbTO3DJt",
      "authorship_tag": "ABX9TyPvh0MPnZ1azIRZo8+JQj70",
      "include_colab_link": true
    },
    "kernelspec": {
      "name": "python3",
      "display_name": "Python 3"
    },
    "language_info": {
      "name": "python"
    }
  },
  "cells": [
    {
      "cell_type": "markdown",
      "metadata": {
        "id": "view-in-github",
        "colab_type": "text"
      },
      "source": [
        "<a href=\"https://colab.research.google.com/github/euneun316/Kaggle/blob/main/Kaggle/Titanic-Machine_Learning_from_Disaster/Titanic_Machine_Learning_from_Disaster.ipynb\" target=\"_parent\"><img src=\"https://colab.research.google.com/assets/colab-badge.svg\" alt=\"Open In Colab\"/></a>"
      ]
    },
    {
      "cell_type": "markdown",
      "source": [
        "# Titanic - Machine Learning from Disaster"
      ],
      "metadata": {
        "id": "LBUIrNlY16qx"
      }
    },
    {
      "cell_type": "markdown",
      "source": [
        "- kaggle에서 제공하는 타이타닉 데이터를 통해 생존자와 사망자를 예측"
      ],
      "metadata": {
        "id": "aRgyP2xsaqpR"
      }
    },
    {
      "cell_type": "markdown",
      "source": [
        "## 1.Kaggle Titanic Data Import"
      ],
      "metadata": {
        "id": "39a9Inqh2DyW"
      }
    },
    {
      "cell_type": "code",
      "execution_count": null,
      "metadata": {
        "colab": {
          "base_uri": "https://localhost:8080/"
        },
        "id": "ORA0_QMiv-dI",
        "outputId": "12bc08d4-2500-4c98-f335-fabdc6be3bd4"
      },
      "outputs": [
        {
          "output_type": "stream",
          "name": "stdout",
          "text": [
            "Requirement already satisfied: kaggle in /usr/local/lib/python3.7/dist-packages (1.5.12)\n",
            "Requirement already satisfied: tqdm in /usr/local/lib/python3.7/dist-packages (from kaggle) (4.62.3)\n",
            "Requirement already satisfied: python-slugify in /usr/local/lib/python3.7/dist-packages (from kaggle) (5.0.2)\n",
            "Requirement already satisfied: requests in /usr/local/lib/python3.7/dist-packages (from kaggle) (2.23.0)\n",
            "Requirement already satisfied: python-dateutil in /usr/local/lib/python3.7/dist-packages (from kaggle) (2.8.2)\n",
            "Requirement already satisfied: six>=1.10 in /usr/local/lib/python3.7/dist-packages (from kaggle) (1.15.0)\n",
            "Requirement already satisfied: urllib3 in /usr/local/lib/python3.7/dist-packages (from kaggle) (1.24.3)\n",
            "Requirement already satisfied: certifi in /usr/local/lib/python3.7/dist-packages (from kaggle) (2021.10.8)\n",
            "Requirement already satisfied: text-unidecode>=1.3 in /usr/local/lib/python3.7/dist-packages (from python-slugify->kaggle) (1.3)\n",
            "Requirement already satisfied: chardet<4,>=3.0.2 in /usr/local/lib/python3.7/dist-packages (from requests->kaggle) (3.0.4)\n",
            "Requirement already satisfied: idna<3,>=2.5 in /usr/local/lib/python3.7/dist-packages (from requests->kaggle) (2.10)\n"
          ]
        }
      ],
      "source": [
        "!pip install kaggle"
      ]
    },
    {
      "cell_type": "code",
      "source": [
        "# Warning: Looks like you're using an outdated API Version, please consider updating (server 1.5.12 / client 1.5.4)\n",
        "!pip install --upgrade --force-reinstall --no-deps kaggle"
      ],
      "metadata": {
        "colab": {
          "base_uri": "https://localhost:8080/"
        },
        "id": "JeUzcHLM2fKF",
        "outputId": "32a0999e-b0ce-4092-ebb6-0c9cbe16d93e"
      },
      "execution_count": null,
      "outputs": [
        {
          "output_type": "stream",
          "name": "stdout",
          "text": [
            "Collecting kaggle\n",
            "  Downloading kaggle-1.5.12.tar.gz (58 kB)\n",
            "\u001b[?25l\r\u001b[K     |█████▋                          | 10 kB 15.5 MB/s eta 0:00:01\r\u001b[K     |███████████▏                    | 20 kB 15.0 MB/s eta 0:00:01\r\u001b[K     |████████████████▊               | 30 kB 10.2 MB/s eta 0:00:01\r\u001b[K     |██████████████████████▎         | 40 kB 8.7 MB/s eta 0:00:01\r\u001b[K     |███████████████████████████▉    | 51 kB 7.2 MB/s eta 0:00:01\r\u001b[K     |████████████████████████████████| 58 kB 3.0 MB/s \n",
            "\u001b[?25hBuilding wheels for collected packages: kaggle\n",
            "  Building wheel for kaggle (setup.py) ... \u001b[?25l\u001b[?25hdone\n",
            "  Created wheel for kaggle: filename=kaggle-1.5.12-py3-none-any.whl size=73051 sha256=dc5e4df2660c5c1132279a49be3037f28839f3d69d1c4bc3b5ce150ff6ccbe82\n",
            "  Stored in directory: /root/.cache/pip/wheels/62/d6/58/5853130f941e75b2177d281eb7e44b4a98ed46dd155f556dc5\n",
            "Successfully built kaggle\n",
            "Installing collected packages: kaggle\n",
            "  Attempting uninstall: kaggle\n",
            "    Found existing installation: kaggle 1.5.12\n",
            "    Uninstalling kaggle-1.5.12:\n",
            "      Successfully uninstalled kaggle-1.5.12\n",
            "Successfully installed kaggle-1.5.12\n"
          ]
        }
      ]
    },
    {
      "cell_type": "code",
      "source": [
        "# Create New API Token\n",
        "# kaggle.json 업로드\n",
        "from google.colab import files\n",
        "files.upload()"
      ],
      "metadata": {
        "id": "FauZX7YRzo6t"
      },
      "execution_count": null,
      "outputs": []
    },
    {
      "cell_type": "code",
      "source": [
        "!ls -al"
      ],
      "metadata": {
        "id": "LDJbqOGL0Bi5",
        "colab": {
          "base_uri": "https://localhost:8080/"
        },
        "outputId": "f5dbc5a5-241b-4649-9f32-2070ce18b08e"
      },
      "execution_count": null,
      "outputs": [
        {
          "output_type": "stream",
          "name": "stdout",
          "text": [
            "total 198\n",
            "-rw------- 1 root root   3258 Jan 19 04:46 gender_submission.csv\n",
            "-rw------- 1 root root     63 Jan 27 21:17 kaggle.json\n",
            "-rw------- 1 root root  28629 Jan 19 04:46 test.csv\n",
            "-rw------- 1 root root 108268 Jan 27 17:27 titanic3.csv\n",
            "-rw------- 1 root root  61194 Jan 19 04:46 train.csv\n"
          ]
        }
      ]
    },
    {
      "cell_type": "code",
      "source": [
        "!mkdir -p ~/.kaggle"
      ],
      "metadata": {
        "id": "_FqbsN4Iw9_h"
      },
      "execution_count": null,
      "outputs": []
    },
    {
      "cell_type": "code",
      "source": [
        "!!ls -al ~/"
      ],
      "metadata": {
        "id": "NA4RRPxI0Kb2",
        "colab": {
          "base_uri": "https://localhost:8080/"
        },
        "outputId": "248396a2-4a96-4fa3-c1a4-65788c1f1965"
      },
      "execution_count": null,
      "outputs": [
        {
          "output_type": "execute_result",
          "data": {
            "text/plain": [
              "['total 72',\n",
              " 'drwx------ 1 root root 4096 Jan 27 21:13 .',\n",
              " 'drwxr-xr-x 1 root root 4096 Jan 27 16:51 ..',\n",
              " '-r-xr-xr-x 1 root root 1169 Jan  1  2000 .bashrc',\n",
              " 'drwxr-xr-x 1 root root 4096 Jan 27 21:13 .cache',\n",
              " 'drwxr-xr-x 1 root root 4096 Jan 27 16:52 .config',\n",
              " 'drwxr-xr-x 3 root root 4096 Jan 25 14:12 .gsutil',\n",
              " 'drwxr-xr-x 1 root root 4096 Jan 25 14:40 .ipython',\n",
              " 'drwx------ 2 root root 4096 Jan 25 14:40 .jupyter',\n",
              " 'drwxr-xr-x 2 root root 4096 Jan 27 21:14 .kaggle',\n",
              " 'drwxr-xr-x 2 root root 4096 Jan 27 16:52 .keras',\n",
              " 'drwx------ 1 root root 4096 Jan 25 14:40 .local',\n",
              " 'drwxr-xr-x 4 root root 4096 Jan 25 14:40 .npm',\n",
              " '-rw-r--r-- 1 root root  148 Aug 17  2015 .profile',\n",
              " '-r-xr-xr-x 1 root root  254 Jan  1  2000 .tmux.conf']"
            ]
          },
          "metadata": {},
          "execution_count": 70
        }
      ]
    },
    {
      "cell_type": "code",
      "source": [
        "!cp kaggle.json ~/.kaggle/kaggle.json"
      ],
      "metadata": {
        "id": "r34iwCBo0Sjo"
      },
      "execution_count": null,
      "outputs": []
    },
    {
      "cell_type": "code",
      "source": [
        "!chmod 600 ~/.kaggle/kaggle.json"
      ],
      "metadata": {
        "id": "NSJ4VfEvxBBg"
      },
      "execution_count": null,
      "outputs": []
    },
    {
      "cell_type": "code",
      "source": [
        "!ls -al ~/.kaggle"
      ],
      "metadata": {
        "id": "wsAXL-KK01Cy",
        "colab": {
          "base_uri": "https://localhost:8080/"
        },
        "outputId": "3ac8934d-1042-4fd0-903f-b6411fb1a5b1"
      },
      "execution_count": null,
      "outputs": [
        {
          "output_type": "stream",
          "name": "stdout",
          "text": [
            "total 16\n",
            "drwxr-xr-x 2 root root 4096 Jan 27 21:14 .\n",
            "drwx------ 1 root root 4096 Jan 27 21:13 ..\n",
            "-rw------- 1 root root   63 Jan 27 21:18 kaggle.json\n"
          ]
        }
      ]
    },
    {
      "cell_type": "code",
      "source": [
        "!kaggle competitions list"
      ],
      "metadata": {
        "id": "LJldSwcDxSK2",
        "colab": {
          "base_uri": "https://localhost:8080/"
        },
        "outputId": "ea9679ee-84c9-4eab-bfb8-18c83b567477"
      },
      "execution_count": null,
      "outputs": [
        {
          "output_type": "stream",
          "name": "stdout",
          "text": [
            "ref                                            deadline             category            reward  teamCount  userHasEntered  \n",
            "---------------------------------------------  -------------------  ---------------  ---------  ---------  --------------  \n",
            "contradictory-my-dear-watson                   2030-07-01 23:59:00  Getting Started     Prizes         80           False  \n",
            "gan-getting-started                            2030-07-01 23:59:00  Getting Started     Prizes        116           False  \n",
            "store-sales-time-series-forecasting            2030-06-30 23:59:00  Getting Started  Knowledge        859           False  \n",
            "tpu-getting-started                            2030-06-03 23:59:00  Getting Started  Knowledge        173           False  \n",
            "digit-recognizer                               2030-01-01 00:00:00  Getting Started  Knowledge       1877           False  \n",
            "titanic                                        2030-01-01 00:00:00  Getting Started  Knowledge      14115           False  \n",
            "house-prices-advanced-regression-techniques    2030-01-01 00:00:00  Getting Started  Knowledge       4997           False  \n",
            "connectx                                       2030-01-01 00:00:00  Getting Started  Knowledge        225           False  \n",
            "nlp-getting-started                            2030-01-01 00:00:00  Getting Started  Knowledge        875           False  \n",
            "competitive-data-science-predict-future-sales  2022-12-31 23:59:00  Playground           Kudos      13451           False  \n",
            "ubiquant-market-prediction                     2022-04-18 23:59:00  Featured          $100,000        672           False  \n",
            "feedback-prize-2021                            2022-03-15 23:59:00  Featured          $160,000       1018           False  \n",
            "tensorflow-great-barrier-reef                  2022-02-14 23:59:00  Research          $150,000       1789           False  \n",
            "jigsaw-toxic-severity-rating                   2022-02-07 23:59:00  Featured           $50,000       2167           False  \n",
            "g-research-crypto-forecasting                  2022-02-01 23:59:00  Featured          $125,000       2046           False  \n",
            "tabular-playground-series-jan-2022             2022-01-31 23:59:00  Playground           Kudos       1435           False  \n",
            "petfinder-pawpularity-score                    2022-01-14 23:59:00  Research           $25,000       3537           False  \n",
            "santa-2021                                     2022-01-12 23:59:00  Featured           $25,000        867           False  \n",
            "optiver-realized-volatility-prediction         2022-01-10 18:36:00  Featured          $100,000       3852           False  \n",
            "nfl-big-data-bowl-2022                         2022-01-06 23:59:00  Analytics         $100,000          0           False  \n"
          ]
        }
      ]
    },
    {
      "cell_type": "code",
      "source": [
        "from google.colab import drive\n",
        "drive.mount('/content/drive')"
      ],
      "metadata": {
        "id": "1q2q4FcBm5bY",
        "colab": {
          "base_uri": "https://localhost:8080/"
        },
        "outputId": "d9bd7eda-7192-4c82-eb09-5284998a8a4a"
      },
      "execution_count": null,
      "outputs": [
        {
          "output_type": "stream",
          "name": "stdout",
          "text": [
            "Drive already mounted at /content/drive; to attempt to forcibly remount, call drive.mount(\"/content/drive\", force_remount=True).\n"
          ]
        }
      ]
    },
    {
      "cell_type": "code",
      "source": [
        "cd /content/drive/MyDrive/Colab Notebooks/Kaggle/Titanic-Machine_Learning_from_Disaster/Titanic_Data/"
      ],
      "metadata": {
        "id": "eOXCH__3xHv2",
        "colab": {
          "base_uri": "https://localhost:8080/"
        },
        "outputId": "f5726dd2-4559-490e-dcec-7f4d935dd1e0"
      },
      "execution_count": null,
      "outputs": [
        {
          "output_type": "stream",
          "name": "stdout",
          "text": [
            "/content/drive/MyDrive/Colab Notebooks/Kaggle/Titanic-Machine_Learning_from_Disaster/Titanic_Data\n"
          ]
        }
      ]
    },
    {
      "cell_type": "code",
      "source": [
        "ls -al"
      ],
      "metadata": {
        "id": "C1OUg6sc1Ebw",
        "colab": {
          "base_uri": "https://localhost:8080/"
        },
        "outputId": "b0caceb3-8b57-4a6a-ba67-3e5687f09e12"
      },
      "execution_count": null,
      "outputs": [
        {
          "output_type": "stream",
          "name": "stdout",
          "text": [
            "total 198\n",
            "-rw------- 1 root root   3258 Jan 19 04:46 gender_submission.csv\n",
            "-rw------- 1 root root     63 Jan 27 21:18 kaggle.json\n",
            "-rw------- 1 root root  28629 Jan 19 04:46 test.csv\n",
            "-rw------- 1 root root 108268 Jan 27 17:27 titanic3.csv\n",
            "-rw------- 1 root root  61194 Jan 19 04:46 train.csv\n"
          ]
        }
      ]
    },
    {
      "cell_type": "code",
      "source": [
        "!kaggle competitions download -c titanic"
      ],
      "metadata": {
        "id": "hUrxzloGwvBb"
      },
      "execution_count": null,
      "outputs": []
    },
    {
      "cell_type": "markdown",
      "source": [
        "## 2.import  library"
      ],
      "metadata": {
        "id": "WWxXlt7O3yAa"
      }
    },
    {
      "cell_type": "code",
      "source": [
        "# 데이터 불러오기\n",
        "import pandas as pd\n",
        "import numpy as np\n",
        "import random as rnd"
      ],
      "metadata": {
        "id": "2aAcWSQ_15kC"
      },
      "execution_count": null,
      "outputs": []
    },
    {
      "cell_type": "code",
      "source": [
        "# 시각화\n",
        "import seaborn as sns\n",
        "import matplotlib as mpl\n",
        "import matplotlib.pyplot as plt\n",
        "import matplotlib.font_manager as fm\n",
        "\n",
        "# 그래프를 선명하게 설정\n",
        "from IPython.display import set_matplotlib_formats\n",
        "set_matplotlib_formats('retina')\n",
        "\n",
        "# 시각화 선명하게 설정\n",
        "%config InlineBackend.figure_format = 'retina'\n",
        "\n",
        "# 그래프에서 마이너스 폰트 깨지는 문제에 대한 대처\n",
        "mpl.rcParams['axes.unicode_minus'] = False\n",
        "\n",
        "# notebook을 실행한 브라우저에서 바로 그림을 볼 수 있게 해주는 것\n",
        "# Rich output(도표와 같은 그림, 소리, 애니메이션 과 같은 결과물)\n",
        "# 그래프를 노트북 안에 그리기 위해 설정\n",
        "%matplotlib inline\n",
        "\n",
        "# 데이터프레임의 행과 열을 몇 개까지 출력해서 확인할 건지 설정\n",
        "pd.options.display.max_rows = 30\n",
        "pd.options.display.max_rows = 30\n",
        "\n",
        "# Seaborn을 통한 설정\n",
        "# 스타일, 폰트 설정\n",
        "sns.set_theme(font ='NanumBarunGothic',\n",
        "        \trc = {'axes.unicode_minus' : False},\n",
        "        \tstyle ='whitegrid')"
      ],
      "metadata": {
        "id": "TW_tWcft99o2"
      },
      "execution_count": null,
      "outputs": []
    },
    {
      "cell_type": "code",
      "source": [
        "# 머신러닝\n",
        "from sklearn.linear_model import LogisticRegression\n",
        "from sklearn.svm import SVC, LinearSVC\n",
        "from sklearn.ensemble import RandomForestClassifier\n",
        "from sklearn.neighbors import KNeighborsClassifier\n",
        "from sklearn.naive_bayes import GaussianNB\n",
        "from sklearn.linear_model import Perceptron\n",
        "from sklearn.linear_model import SGDClassifier\n",
        "from sklearn.tree import DecisionTreeClassifier"
      ],
      "metadata": {
        "id": "-6Asqqdl-AFI"
      },
      "execution_count": null,
      "outputs": []
    },
    {
      "cell_type": "code",
      "source": [
        "# matplotlib\n",
        "print ('버전: ', mpl.__version__)\n",
        "print ('설치 위치: ', mpl.__file__)\n",
        "print ('설정 위치: ', mpl.get_configdir())\n",
        "print ('캐시 위치: ', mpl.get_cachedir())\n",
        "print ('설정파일 위치: ', mpl.matplotlib_fname())"
      ],
      "metadata": {
        "id": "Q2Sw_gwe-JmZ",
        "colab": {
          "base_uri": "https://localhost:8080/"
        },
        "outputId": "943f5168-deef-4f02-fd8c-20363528e01f"
      },
      "execution_count": null,
      "outputs": [
        {
          "output_type": "stream",
          "name": "stdout",
          "text": [
            "버전:  3.2.2\n",
            "설치 위치:  /usr/local/lib/python3.7/dist-packages/matplotlib/__init__.py\n",
            "설정 위치:  /root/.config/matplotlib\n",
            "캐시 위치:  /root/.cache/matplotlib\n",
            "설정파일 위치:  /usr/local/lib/python3.7/dist-packages/matplotlib/mpl-data/matplotlibrc\n"
          ]
        }
      ]
    },
    {
      "cell_type": "code",
      "source": [
        "# 설정 되어있는 폰트 사이즈\n",
        "print (plt.rcParams['font.size'] ) \n",
        "# 설정 되어있는 폰트 글꼴\n",
        "print (plt.rcParams['font.family'] )"
      ],
      "metadata": {
        "id": "Azm6Dvwb-LcC",
        "colab": {
          "base_uri": "https://localhost:8080/"
        },
        "outputId": "06a76ff6-cded-4839-836f-3f1a9328f117"
      },
      "execution_count": null,
      "outputs": [
        {
          "output_type": "stream",
          "name": "stdout",
          "text": [
            "12.0\n",
            "['NanumBarunGothic']\n"
          ]
        }
      ]
    },
    {
      "cell_type": "code",
      "source": [
        "!apt-get update -qq\n",
        "!apt-get install fonts-nanum* -qq\n",
        "\n",
        "# !sudo apt-get install -y fonts-nanum\n",
        "# !sudo fc-cache -fv\n",
        "# !rm ~/.cache/matplotlib -rf\n",
        "\n",
        "path = '/usr/share/fonts/truetype/nanum/NanumBarunGothic.ttf' \n",
        "font_name = fm.FontProperties(fname=path, size=10).get_name()\n",
        "print(font_name)\n",
        "plt.rc('font', family=font_name)\n",
        "\n",
        "fm._rebuild()"
      ],
      "metadata": {
        "id": "7rlEwFXZnGGS",
        "colab": {
          "base_uri": "https://localhost:8080/"
        },
        "outputId": "a005be3f-9219-400e-e2ff-f1822fab7666"
      },
      "execution_count": null,
      "outputs": [
        {
          "output_type": "stream",
          "name": "stdout",
          "text": [
            "Selecting previously unselected package fonts-nanum.\n",
            "(Reading database ... 155229 files and directories currently installed.)\n",
            "Preparing to unpack .../fonts-nanum_20170925-1_all.deb ...\n",
            "Unpacking fonts-nanum (20170925-1) ...\n",
            "Selecting previously unselected package fonts-nanum-eco.\n",
            "Preparing to unpack .../fonts-nanum-eco_1.000-6_all.deb ...\n",
            "Unpacking fonts-nanum-eco (1.000-6) ...\n",
            "Selecting previously unselected package fonts-nanum-extra.\n",
            "Preparing to unpack .../fonts-nanum-extra_20170925-1_all.deb ...\n",
            "Unpacking fonts-nanum-extra (20170925-1) ...\n",
            "Selecting previously unselected package fonts-nanum-coding.\n",
            "Preparing to unpack .../fonts-nanum-coding_2.5-1_all.deb ...\n",
            "Unpacking fonts-nanum-coding (2.5-1) ...\n",
            "Setting up fonts-nanum-extra (20170925-1) ...\n",
            "Setting up fonts-nanum (20170925-1) ...\n",
            "Setting up fonts-nanum-coding (2.5-1) ...\n",
            "Setting up fonts-nanum-eco (1.000-6) ...\n",
            "Processing triggers for fontconfig (2.12.6-0ubuntu2) ...\n",
            "NanumBarunGothic\n"
          ]
        }
      ]
    },
    {
      "cell_type": "code",
      "source": [
        "font_list = fm.findSystemFonts(fontpaths=None, fontext='ttf')\n",
        "\n",
        "# ttf 폰트 전체갯수\n",
        "print(len(font_list)) "
      ],
      "metadata": {
        "id": "rUDOO-oenH48",
        "colab": {
          "base_uri": "https://localhost:8080/"
        },
        "outputId": "d77e48f6-7775-4e94-e95d-3c2ae50f8e34"
      },
      "execution_count": null,
      "outputs": [
        {
          "output_type": "stream",
          "name": "stdout",
          "text": [
            "48\n"
          ]
        }
      ]
    },
    {
      "cell_type": "code",
      "source": [
        "# 설치된 폰트 출력\n",
        "font_list = [font.name for font in fm.fontManager.ttflist]\n",
        "font_list"
      ],
      "metadata": {
        "id": "rxZuzBUBnOqj"
      },
      "execution_count": null,
      "outputs": []
    },
    {
      "cell_type": "code",
      "source": [
        "fm._rebuild()"
      ],
      "metadata": {
        "id": "mK_D6wkQnPuV"
      },
      "execution_count": null,
      "outputs": []
    },
    {
      "cell_type": "code",
      "source": [
        "#'Nanum'이 들어간 폰트만 가져오기\n",
        "[(f.name, f.fname) for f in fm.fontManager.ttflist if 'Nanum' in f.name]"
      ],
      "metadata": {
        "id": "eIkoRB0-nRfX"
      },
      "execution_count": null,
      "outputs": []
    },
    {
      "cell_type": "code",
      "source": [
        "# 버전차이로 인해 출력되는 에러 문구 무시\n",
        "import warnings\n",
        "warnings.filterwarnings(action='ignore')"
      ],
      "metadata": {
        "id": "asGDKlELnWxw"
      },
      "execution_count": null,
      "outputs": []
    },
    {
      "cell_type": "markdown",
      "source": [
        "## 3.OverView\n",
        "\n",
        "- RMS 타이타닉(영어: RMS Titanic) : 영국의 화이트 스타 라인이 운영한 북대서양 횡단 여객선\n",
        "- 사건 발생: 1912년 4월 10일 영국의 사우샘프턴을 떠나 미국의 뉴욕으로 향하던 첫 항해 중에 4월 15일 빙산과 충돌하여 침몰\n",
        "- 1912년 4월 14일 오후 11시 40분(선내 시각, GMT -3) 빙산과 충돌\n",
        "- 승객 대다수는 영국과 스칸다나비아 반도 등에서 새로운 삶을 찾아 미국으로 가는 이민자.\n",
        "- 타이타닉이 완전히 침몰한 시간 : 새벽 2시 20분\n",
        ">- 타이타닉의 침몰 사망 인원 : **1,514**명\n",
        ">- 출항 당시 승선 인원 : **2,223명**\n",
        ">- 구명정 : **20척**, 최대 정원 : **1,178명**\n",
        ">- 구명정 구조 인원 :  **706명** ( +3명은?)\n",
        "- 구명정을 타고 있다가 몇 시간 뒤 RMS 카르파티아(RMS Carpathia)로 구조\n",
        "- 주갑판이 함몰되고 우현에 구멍이 났다. 구멍으로 물이 들어오기 시작한 지 2시간 40분만에 완전히 침수되어 침몰하였다.\n",
        "- 구명정에 타지 못한 채 바다로 뛰어든 수많은 사람들은 수 분 내에 저체온증으로 사망하였다. \n",
        "- 침몰 당시에도 배에 1,000여명의 사람들이 남아 있었다. \n",
        "---\n",
        "[시설]\n",
        "- 보트 갑판 : 1등실 산책로의 경우 외관을 잘 볼 수 있게 하기 위해 구명보트가 설치되어 있지 않았는데, 이것이 참사의 원인 중 하나가 되었다.\n",
        ">- 1등실 : **329명** 부유한 승객\n",
        ">- 2등실 : **285명** 중산층 승객\n",
        ">- 3등실 : **710명** 가난한 승객\n",
        "---\n",
        "[대피]\n",
        "- 여자와 어린이 먼저\n",
        "- 여자와 어린이만 태웠기 때문에 자리가 있었음에도 남자는 승무원들이 거부하였고 그로인해 구명보트 정원의 절반도 못태운채 보트가 내려감\n",
        ">- 구명보트 7호 : 정원 65명에 28명을 태우고 처음으로 내려짐\n",
        ">- 구명보트 6호 : 28명\n",
        ">- 구명보트 5호 : 41명\n",
        ">- 구명보트 3호 : 32명\n",
        ">- 구명보트 8호 : 39명\n",
        ">- 구명보트 1호 : 12명\n",
        ">- 구명보트 11호 : 정원을 다섯명을 초과\n",
        ">- 접이식 보트 D\n",
        ">- 접이식 보트 B는 30여명의 사람들이 선 상태로 뒤집힘\n",
        ">- 접이식 보트 A는 제대로 뜨긴 했으나 물이 반쯤 찼다.\n",
        "- 보일러실에서 화부, 기관부 선원들 사망\n",
        "---\n",
        "[구조]\n",
        "- 영하 2도의 차가운 바다에 있던 사람들은 저체온증으로 대부분이 30분 안에 죽었다.\n",
        "- 결국 4명의 생존자가 추가로 구조\n",
        "- 5명의 생존자는 구명보트 안에서 사망\n",
        ">1. 1등실\n",
        ">- 어린이1명 빼고 모두 구조\n",
        ">2. 2등실\n",
        ">- 어린이 모두 구조\n",
        ">- 성인남자 승객은 168명 중 겨우 14명만 구조\n",
        ">3. 3등실\n",
        ">-  특이하게 이민자들보다도 신분이 낮은 하인들이 많이 구조되었다.\n",
        "\n",
        "---\n",
        "![Titanic](https://upload.wikimedia.org/wikipedia/commons/3/33/Titanic_sinking_gif.gif)"
      ],
      "metadata": {
        "id": "chD0orWinZ4L"
      }
    },
    {
      "cell_type": "markdown",
      "source": [
        "## 4.Exploratory Data Analysis (EDA) 탐색적 자료분석"
      ],
      "metadata": {
        "id": "nYWPxLPS-d01"
      }
    },
    {
      "cell_type": "markdown",
      "source": [
        "- train.csv : 모델 학습에 사용되는 데이터\n",
        "- test.csv : 모델 적용 대상이 되는 데이터\n",
        "- titanic3.csv : 타이타닉 전체 데이터"
      ],
      "metadata": {
        "id": "ZATM1Jly-6rH"
      }
    },
    {
      "cell_type": "markdown",
      "source": [
        "#### 변수설명\n",
        "\n",
        "|**Variable**|**Definition**|**Key**|**Description**|\n",
        "|:--------:|:-----------:|:--------:|:---:|\n",
        "|PassengerId|||각 승객의 고유 번호|\n",
        "|Survival| Survival| 0 = No, 1 = Yes|0=사망, 1=생존<br />생존 여부(종속 변수)|\n",
        "|Pclass| Ticket class| 1 = 1st, 2 = 2nd, 3 = 3rd|객실 등급 - 승객의 사회적, 경제적 지위|\n",
        "|Name|name||이름|\n",
        "|Sex|Sex ||성별|\n",
        "|Age|Age in years||나이|\n",
        "|Sibsp| # of siblings / spouses aboard the Titanic ||동반한 Sibling(형제자매)<br />Spouse(배우자) 수|\n",
        "|Parch|# of parents / children aboard the Titanic||동반한 Parent(부모) <br />Child(자식)의 수|\n",
        "|Ticket| Ticket number||티켓의 고유넘버|\n",
        "|Fare| Passenger fare||티켓의 요금|\n",
        "|Cabin| Cabin number||객실 번호|\n",
        "|Embarked|Port of Embarkation|C = Cherbourg<br />Q = Queenstown<br />S = Southampton|승선한 항|\n",
        "|boat|||탈출을 했다면 탑승한 보트의 번호|\n",
        "|body||||\n",
        "|home.dest||||"
      ],
      "metadata": {
        "id": "ag3jzaKQCFrP"
      }
    },
    {
      "cell_type": "code",
      "source": [
        "# row 생략 없이 출력\n",
        "pd.set_option('display.max_rows', None)\n",
        "# pd.set_option('display.max_rows', 10)\n",
        "# col 생략 없이 출력\n",
        "pd.set_option('display.max_columns', None)\n",
        "# pd.set_option('display.max_columns', 10)"
      ],
      "metadata": {
        "id": "mAnr9GT87a61"
      },
      "execution_count": null,
      "outputs": []
    },
    {
      "cell_type": "code",
      "source": [
        "train_df=pd.read_csv(\"train.csv\")\n",
        "test_df=pd.read_csv(\"test.csv\")\n",
        "gender_submission = pd.read_csv(\"gender_submission.csv\")\n",
        "# 모델 적용의 일관성을 위해,\n",
        "# train과 test를 합한 combine 데이터 셋도 지정\n",
        "combine=[train_df,test_df]"
      ],
      "metadata": {
        "id": "BwhngUGV-9ZA"
      },
      "execution_count": null,
      "outputs": []
    },
    {
      "cell_type": "code",
      "source": [
        "# The Complete Titanic Dataset\n",
        "url = 'https://raw.githubusercontent.com/euneun316/Kaggle/main/Titanic-Machine_Learning_from_Disaster/Titanic_Data/titanic3.csv'\n",
        "\n",
        "titanic3_df = pd.read_csv(url)\n",
        "titanic3_df_1 = pd.read_csv(url).iloc[:, :-3]\n",
        "# titanic3_df_1.head(3)\n",
        "titanic3_df.head(3)"
      ],
      "metadata": {
        "colab": {
          "base_uri": "https://localhost:8080/",
          "height": 144
        },
        "id": "NY7kM4Y9feq6",
        "outputId": "58ed005e-a482-432a-9e18-53a672a7fb9a"
      },
      "execution_count": null,
      "outputs": [
        {
          "output_type": "execute_result",
          "data": {
            "text/html": [
              "\n",
              "  <div id=\"df-01e1935e-fdcc-427c-8f6d-fb3a9f753459\">\n",
              "    <div class=\"colab-df-container\">\n",
              "      <div>\n",
              "<style scoped>\n",
              "    .dataframe tbody tr th:only-of-type {\n",
              "        vertical-align: middle;\n",
              "    }\n",
              "\n",
              "    .dataframe tbody tr th {\n",
              "        vertical-align: top;\n",
              "    }\n",
              "\n",
              "    .dataframe thead th {\n",
              "        text-align: right;\n",
              "    }\n",
              "</style>\n",
              "<table border=\"1\" class=\"dataframe\">\n",
              "  <thead>\n",
              "    <tr style=\"text-align: right;\">\n",
              "      <th></th>\n",
              "      <th>pclass</th>\n",
              "      <th>survived</th>\n",
              "      <th>name</th>\n",
              "      <th>sex</th>\n",
              "      <th>age</th>\n",
              "      <th>sibsp</th>\n",
              "      <th>parch</th>\n",
              "      <th>ticket</th>\n",
              "      <th>fare</th>\n",
              "      <th>cabin</th>\n",
              "      <th>embarked</th>\n",
              "      <th>boat</th>\n",
              "      <th>body</th>\n",
              "      <th>home.dest</th>\n",
              "    </tr>\n",
              "  </thead>\n",
              "  <tbody>\n",
              "    <tr>\n",
              "      <th>0</th>\n",
              "      <td>1</td>\n",
              "      <td>1</td>\n",
              "      <td>Allen, Miss. Elisabeth Walton</td>\n",
              "      <td>female</td>\n",
              "      <td>29.0000</td>\n",
              "      <td>0</td>\n",
              "      <td>0</td>\n",
              "      <td>24160</td>\n",
              "      <td>211.3375</td>\n",
              "      <td>B5</td>\n",
              "      <td>S</td>\n",
              "      <td>2</td>\n",
              "      <td>NaN</td>\n",
              "      <td>St Louis, MO</td>\n",
              "    </tr>\n",
              "    <tr>\n",
              "      <th>1</th>\n",
              "      <td>1</td>\n",
              "      <td>1</td>\n",
              "      <td>Allison, Master. Hudson Trevor</td>\n",
              "      <td>male</td>\n",
              "      <td>0.9167</td>\n",
              "      <td>1</td>\n",
              "      <td>2</td>\n",
              "      <td>113781</td>\n",
              "      <td>151.5500</td>\n",
              "      <td>C22 C26</td>\n",
              "      <td>S</td>\n",
              "      <td>11</td>\n",
              "      <td>NaN</td>\n",
              "      <td>Montreal, PQ / Chesterville, ON</td>\n",
              "    </tr>\n",
              "    <tr>\n",
              "      <th>2</th>\n",
              "      <td>1</td>\n",
              "      <td>0</td>\n",
              "      <td>Allison, Miss. Helen Loraine</td>\n",
              "      <td>female</td>\n",
              "      <td>2.0000</td>\n",
              "      <td>1</td>\n",
              "      <td>2</td>\n",
              "      <td>113781</td>\n",
              "      <td>151.5500</td>\n",
              "      <td>C22 C26</td>\n",
              "      <td>S</td>\n",
              "      <td>NaN</td>\n",
              "      <td>NaN</td>\n",
              "      <td>Montreal, PQ / Chesterville, ON</td>\n",
              "    </tr>\n",
              "  </tbody>\n",
              "</table>\n",
              "</div>\n",
              "      <button class=\"colab-df-convert\" onclick=\"convertToInteractive('df-01e1935e-fdcc-427c-8f6d-fb3a9f753459')\"\n",
              "              title=\"Convert this dataframe to an interactive table.\"\n",
              "              style=\"display:none;\">\n",
              "        \n",
              "  <svg xmlns=\"http://www.w3.org/2000/svg\" height=\"24px\"viewBox=\"0 0 24 24\"\n",
              "       width=\"24px\">\n",
              "    <path d=\"M0 0h24v24H0V0z\" fill=\"none\"/>\n",
              "    <path d=\"M18.56 5.44l.94 2.06.94-2.06 2.06-.94-2.06-.94-.94-2.06-.94 2.06-2.06.94zm-11 1L8.5 8.5l.94-2.06 2.06-.94-2.06-.94L8.5 2.5l-.94 2.06-2.06.94zm10 10l.94 2.06.94-2.06 2.06-.94-2.06-.94-.94-2.06-.94 2.06-2.06.94z\"/><path d=\"M17.41 7.96l-1.37-1.37c-.4-.4-.92-.59-1.43-.59-.52 0-1.04.2-1.43.59L10.3 9.45l-7.72 7.72c-.78.78-.78 2.05 0 2.83L4 21.41c.39.39.9.59 1.41.59.51 0 1.02-.2 1.41-.59l7.78-7.78 2.81-2.81c.8-.78.8-2.07 0-2.86zM5.41 20L4 18.59l7.72-7.72 1.47 1.35L5.41 20z\"/>\n",
              "  </svg>\n",
              "      </button>\n",
              "      \n",
              "  <style>\n",
              "    .colab-df-container {\n",
              "      display:flex;\n",
              "      flex-wrap:wrap;\n",
              "      gap: 12px;\n",
              "    }\n",
              "\n",
              "    .colab-df-convert {\n",
              "      background-color: #E8F0FE;\n",
              "      border: none;\n",
              "      border-radius: 50%;\n",
              "      cursor: pointer;\n",
              "      display: none;\n",
              "      fill: #1967D2;\n",
              "      height: 32px;\n",
              "      padding: 0 0 0 0;\n",
              "      width: 32px;\n",
              "    }\n",
              "\n",
              "    .colab-df-convert:hover {\n",
              "      background-color: #E2EBFA;\n",
              "      box-shadow: 0px 1px 2px rgba(60, 64, 67, 0.3), 0px 1px 3px 1px rgba(60, 64, 67, 0.15);\n",
              "      fill: #174EA6;\n",
              "    }\n",
              "\n",
              "    [theme=dark] .colab-df-convert {\n",
              "      background-color: #3B4455;\n",
              "      fill: #D2E3FC;\n",
              "    }\n",
              "\n",
              "    [theme=dark] .colab-df-convert:hover {\n",
              "      background-color: #434B5C;\n",
              "      box-shadow: 0px 1px 3px 1px rgba(0, 0, 0, 0.15);\n",
              "      filter: drop-shadow(0px 1px 2px rgba(0, 0, 0, 0.3));\n",
              "      fill: #FFFFFF;\n",
              "    }\n",
              "  </style>\n",
              "\n",
              "      <script>\n",
              "        const buttonEl =\n",
              "          document.querySelector('#df-01e1935e-fdcc-427c-8f6d-fb3a9f753459 button.colab-df-convert');\n",
              "        buttonEl.style.display =\n",
              "          google.colab.kernel.accessAllowed ? 'block' : 'none';\n",
              "\n",
              "        async function convertToInteractive(key) {\n",
              "          const element = document.querySelector('#df-01e1935e-fdcc-427c-8f6d-fb3a9f753459');\n",
              "          const dataTable =\n",
              "            await google.colab.kernel.invokeFunction('convertToInteractive',\n",
              "                                                     [key], {});\n",
              "          if (!dataTable) return;\n",
              "\n",
              "          const docLinkHtml = 'Like what you see? Visit the ' +\n",
              "            '<a target=\"_blank\" href=https://colab.research.google.com/notebooks/data_table.ipynb>data table notebook</a>'\n",
              "            + ' to learn more about interactive tables.';\n",
              "          element.innerHTML = '';\n",
              "          dataTable['output_type'] = 'display_data';\n",
              "          await google.colab.output.renderOutput(dataTable, element);\n",
              "          const docLink = document.createElement('div');\n",
              "          docLink.innerHTML = docLinkHtml;\n",
              "          element.appendChild(docLink);\n",
              "        }\n",
              "      </script>\n",
              "    </div>\n",
              "  </div>\n",
              "  "
            ],
            "text/plain": [
              "   pclass  survived                            name     sex      age  sibsp  \\\n",
              "0       1         1   Allen, Miss. Elisabeth Walton  female  29.0000      0   \n",
              "1       1         1  Allison, Master. Hudson Trevor    male   0.9167      1   \n",
              "2       1         0    Allison, Miss. Helen Loraine  female   2.0000      1   \n",
              "\n",
              "   parch  ticket      fare    cabin embarked boat  body  \\\n",
              "0      0   24160  211.3375       B5        S    2   NaN   \n",
              "1      2  113781  151.5500  C22 C26        S   11   NaN   \n",
              "2      2  113781  151.5500  C22 C26        S  NaN   NaN   \n",
              "\n",
              "                         home.dest  \n",
              "0                     St Louis, MO  \n",
              "1  Montreal, PQ / Chesterville, ON  \n",
              "2  Montreal, PQ / Chesterville, ON  "
            ]
          },
          "metadata": {},
          "execution_count": 83
        }
      ]
    },
    {
      "cell_type": "markdown",
      "source": [
        "### Data Cleansing & Pre-Processing 데이터 전처리"
      ],
      "metadata": {
        "id": "HkROMgQsCP4A"
      }
    },
    {
      "cell_type": "markdown",
      "source": [
        "#### 1.텍스트 전처리(Name)\n",
        "- 승객 이름의 정보에서 Mr., Miss. 등의 정보를 정규표현식을 이용해서 추출"
      ],
      "metadata": {
        "id": "E2PnZsBG6u_s"
      }
    },
    {
      "cell_type": "code",
      "source": [
        "train_df['Name']"
      ],
      "metadata": {
        "colab": {
          "base_uri": "https://localhost:8080/"
        },
        "id": "7jCnjhw-66Uw",
        "outputId": "5ef0ccf8-6f9a-484e-8de2-ba377b0d42d7"
      },
      "execution_count": null,
      "outputs": [
        {
          "output_type": "execute_result",
          "data": {
            "text/plain": [
              "0                                Braund, Mr. Owen Harris\n",
              "1      Cumings, Mrs. John Bradley (Florence Briggs Th...\n",
              "2                                 Heikkinen, Miss. Laina\n",
              "3           Futrelle, Mrs. Jacques Heath (Lily May Peel)\n",
              "4                               Allen, Mr. William Henry\n",
              "                             ...                        \n",
              "886                                Montvila, Rev. Juozas\n",
              "887                         Graham, Miss. Margaret Edith\n",
              "888             Johnston, Miss. Catherine Helen \"Carrie\"\n",
              "889                                Behr, Mr. Karl Howell\n",
              "890                                  Dooley, Mr. Patrick\n",
              "Name: Name, Length: 891, dtype: object"
            ]
          },
          "metadata": {},
          "execution_count": 86
        }
      ]
    },
    {
      "cell_type": "code",
      "source": [
        "# \\w : 알파벳과 _ (언더바)\n",
        "# expend=Flase인 경우 label 단위, expend=True인 경우 column 단위\n",
        "train_df['Name_fix'] = train_df['Name'].str.extract('( [A-Z]+\\w*)', expand=False).str.strip()"
      ],
      "metadata": {
        "id": "hrj1wjke6-jS"
      },
      "execution_count": null,
      "outputs": []
    },
    {
      "cell_type": "code",
      "source": [
        "train_df['Name_fix'].value_counts()"
      ],
      "metadata": {
        "colab": {
          "base_uri": "https://localhost:8080/"
        },
        "id": "DddpLbke7CHo",
        "outputId": "c06c7e0e-825c-4591-e256-8313c3e63390"
      },
      "execution_count": null,
      "outputs": [
        {
          "output_type": "execute_result",
          "data": {
            "text/plain": [
              "Mr             503\n",
              "Miss           179\n",
              "Mrs            121\n",
              "Master          40\n",
              "Dr               7\n",
              "Rev              6\n",
              "Impe             3\n",
              "Planke           3\n",
              "Gordon           2\n",
              "Col              2\n",
              "Major            2\n",
              "Mlle             2\n",
              "Castellana       2\n",
              "Melkebeke        1\n",
              "Messemaeker      1\n",
              "Mme              1\n",
              "Walle            1\n",
              "Manent           1\n",
              "Shawah           1\n",
              "More             1\n",
              "Steen            1\n",
              "Capt             1\n",
              "Carlo            1\n",
              "Jonkheer         1\n",
              "Mulder           1\n",
              "Countess         1\n",
              "Pelsmaeker       1\n",
              "Billiard         1\n",
              "Cruyssen         1\n",
              "Don              1\n",
              "Velde            1\n",
              "Ms               1\n",
              "Name: Name_fix, dtype: int64"
            ]
          },
          "metadata": {},
          "execution_count": 89
        }
      ]
    },
    {
      "cell_type": "markdown",
      "source": [
        "- Mr. : 성인 남성 (503)\n",
        "- Miss : 결혼을 하지 않은 여성 (179)\n",
        "- Mrs. : 결혼을 한 여성 (121)\n",
        "- Master (Mstr.) : 결혼을 하지 않은 남성. 주로 청소년 이하 (40)\n",
        "- Dr : 의사 (7)"
      ],
      "metadata": {
        "id": "W5E9hvVB80jq"
      }
    },
    {
      "cell_type": "code",
      "source": [
        "train_df['Name_fix'] = np.where(train_df['Name_fix'].isin(['Mr','Miss','Mrs','Master','Dr']), train_df['Name_fix'], 'Others')\n",
        "train_df['Name_fix'].value_counts()"
      ],
      "metadata": {
        "colab": {
          "base_uri": "https://localhost:8080/"
        },
        "id": "0aLjyV_M9KuU",
        "outputId": "ab0f3219-2346-4121-eefb-64d58cf2e291"
      },
      "execution_count": null,
      "outputs": [
        {
          "output_type": "execute_result",
          "data": {
            "text/plain": [
              "Mr        503\n",
              "Miss      179\n",
              "Mrs       121\n",
              "Others     41\n",
              "Master     40\n",
              "Dr          7\n",
              "Name: Name_fix, dtype: int64"
            ]
          },
          "metadata": {},
          "execution_count": 91
        }
      ]
    },
    {
      "cell_type": "code",
      "source": [
        "train_df.groupby(['Name_fix'])['Survived'].mean().sort_values(ascending=False)"
      ],
      "metadata": {
        "colab": {
          "base_uri": "https://localhost:8080/"
        },
        "id": "2p7qJ2Lb9YJ2",
        "outputId": "2efc8f85-7f0f-4e7a-8ac4-945ee9fa07f5"
      },
      "execution_count": null,
      "outputs": [
        {
          "output_type": "execute_result",
          "data": {
            "text/plain": [
              "Name_fix\n",
              "Mrs       0.801653\n",
              "Miss      0.703911\n",
              "Master    0.575000\n",
              "Dr        0.428571\n",
              "Others    0.341463\n",
              "Mr        0.157058\n",
              "Name: Survived, dtype: float64"
            ]
          },
          "metadata": {},
          "execution_count": 92
        }
      ]
    },
    {
      "cell_type": "code",
      "source": [
        "train_df.groupby('Name_fix')['Age'].mean()"
      ],
      "metadata": {
        "colab": {
          "base_uri": "https://localhost:8080/"
        },
        "id": "K6bEgVYiC5c_",
        "outputId": "54b27577-c67f-4465-8159-31ae215fb626"
      },
      "execution_count": null,
      "outputs": [
        {
          "output_type": "execute_result",
          "data": {
            "text/plain": [
              "Name_fix\n",
              "Dr        42.000000\n",
              "Master     4.574167\n",
              "Miss      21.846154\n",
              "Mr        32.463731\n",
              "Mrs       36.182692\n",
              "Others    35.141026\n",
              "Name: Age, dtype: float64"
            ]
          },
          "metadata": {},
          "execution_count": 93
        }
      ]
    },
    {
      "cell_type": "markdown",
      "source": [
        "- 해당 이름별로 나이의 평균\n",
        "- 위 평균값을 이용하여 Age에 Null인 데이터에 평균값을 넣어준다."
      ],
      "metadata": {
        "id": "r3NiPJtaDAxM"
      }
    },
    {
      "cell_type": "code",
      "source": [
        "for ls_df in [train_df]:\n",
        "    ls_df['Age'] = ls_df['Age'].astype(float)\n",
        "    ls_df['Age_median'] = ls_df.groupby(['Name_fix'])['Age'].transform('median')\n",
        "    ls_df['Age'] = np.where(ls_df['Age'].isnull(), ls_df['Age_median'], ls_df['Age'])"
      ],
      "metadata": {
        "id": "8EnPlayZDUob"
      },
      "execution_count": null,
      "outputs": []
    },
    {
      "cell_type": "code",
      "source": [
        "train_df.Age.isnull().sum()"
      ],
      "metadata": {
        "colab": {
          "base_uri": "https://localhost:8080/"
        },
        "id": "MPkmXPo1Dn-O",
        "outputId": "bf624697-c13d-427c-fa0e-155339b8e24c"
      },
      "execution_count": null,
      "outputs": [
        {
          "output_type": "execute_result",
          "data": {
            "text/plain": [
              "0"
            ]
          },
          "metadata": {},
          "execution_count": 95
        }
      ]
    },
    {
      "cell_type": "markdown",
      "source": [
        "- 여성,아이의 생존률이 Mr(남성)의 생존률 보다 높다"
      ],
      "metadata": {
        "id": "7fBBV7Ch-7cH"
      }
    },
    {
      "cell_type": "code",
      "source": [
        "def bar_df(df,colname):\n",
        "    surv = df[df['Survived']==1][colname].value_counts()\n",
        "    dead = df[df['Survived']==0][colname].value_counts()\n",
        "    tt = pd.DataFrame([surv,dead], index=['surv','dead'])\n",
        "    return tt\n",
        "\n",
        "plt.figure(figsize=(7,6))\n",
        "bar_df(train_df,'Name_fix').plot(kind='bar')\n",
        "plt.show()"
      ],
      "metadata": {
        "colab": {
          "base_uri": "https://localhost:8080/",
          "height": 304
        },
        "id": "GQRfJ3eB9gXq",
        "outputId": "59b09400-ad61-4678-f63d-54f61a469518"
      },
      "execution_count": null,
      "outputs": [
        {
          "output_type": "display_data",
          "data": {
            "text/plain": [
              "<Figure size 504x432 with 0 Axes>"
            ]
          },
          "metadata": {}
        },
        {
          "output_type": "display_data",
          "data": {
            "image/png": "[encoded data removed]",
            "text/plain": [
              "<Figure size 432x288 with 1 Axes>"
            ]
          },
          "metadata": {
            "image/png": {
              "width": 379,
              "height": 268
            }
          }
        }
      ]
    },
    {
      "cell_type": "markdown",
      "source": [
        "#### 이름별 객실,생존율"
      ],
      "metadata": {
        "id": "ou2AaRHfEPbn"
      }
    },
    {
      "cell_type": "code",
      "source": [
        "sns.factorplot('Pclass','Survived',col='Name_fix',data=train_df)\n",
        "plt.show()"
      ],
      "metadata": {
        "colab": {
          "base_uri": "https://localhost:8080/",
          "height": 363
        },
        "id": "LPogJdxwEDOa",
        "outputId": "52655c8f-9809-49b5-9d07-0257c4ac825c"
      },
      "execution_count": null,
      "outputs": [
        {
          "output_type": "display_data",
          "data": {
            "image/png": "[encoded data removed]",
            "text/plain": [
              "<Figure size 2160x360 with 6 Axes>"
            ]
          },
          "metadata": {
            "image/png": {
              "width": 2147,
              "height": 346
            }
          }
        }
      ]
    },
    {
      "cell_type": "markdown",
      "source": [
        "---"
      ],
      "metadata": {
        "id": "_toRsWVgBXXb"
      }
    },
    {
      "cell_type": "code",
      "source": [
        "print(train_df.columns.values)\n",
        "print(titanic3_df_1.columns.values)"
      ],
      "metadata": {
        "id": "hU7zpskl_GI6",
        "colab": {
          "base_uri": "https://localhost:8080/"
        },
        "outputId": "ce60b475-3931-4611-d50b-752501818ea3"
      },
      "execution_count": null,
      "outputs": [
        {
          "output_type": "stream",
          "name": "stdout",
          "text": [
            "['PassengerId' 'Survived' 'Pclass' 'Name' 'Sex' 'Age' 'SibSp' 'Parch'\n",
            " 'Ticket' 'Fare' 'Cabin' 'Embarked']\n",
            "['pclass' 'survived' 'name' 'sex' 'age' 'sibsp' 'parch' 'ticket' 'fare'\n",
            " 'cabin' 'embarked']\n"
          ]
        }
      ]
    },
    {
      "cell_type": "code",
      "source": [
        "train_df.columns.unique"
      ],
      "metadata": {
        "colab": {
          "base_uri": "https://localhost:8080/"
        },
        "id": "aPC4cRzTzztw",
        "outputId": "4a8a308e-7647-4dac-dc59-eb342c48294d"
      },
      "execution_count": null,
      "outputs": [
        {
          "output_type": "execute_result",
          "data": {
            "text/plain": [
              "<bound method Index.unique of Index(['PassengerId', 'Survived', 'Pclass', 'Name', 'Sex', 'Age', 'SibSp',\n",
              "       'Parch', 'Ticket', 'Fare', 'Cabin', 'Embarked'],\n",
              "      dtype='object')>"
            ]
          },
          "metadata": {},
          "execution_count": 17
        }
      ]
    },
    {
      "cell_type": "code",
      "source": [
        "#Passengerid는 순서를 나타내는 데이터이므로 생존 예측에는 영향을 미치지 않을 것이므로 컬럼을 삭제\n",
        "del train_df['PassengerId']"
      ],
      "metadata": {
        "id": "WLgY7T2f0E89"
      },
      "execution_count": null,
      "outputs": []
    },
    {
      "cell_type": "code",
      "source": [
        "test_df.drop('PassengerId', axis=1, inplace=True)"
      ],
      "metadata": {
        "id": "wCRHVcMi0PaW"
      },
      "execution_count": null,
      "outputs": []
    },
    {
      "cell_type": "code",
      "source": [
        "train_df.fillna(0)"
      ],
      "metadata": {
        "id": "CRwpeQeZCdkR"
      },
      "execution_count": null,
      "outputs": []
    },
    {
      "cell_type": "code",
      "source": [
        "train_df['Embarked'].value_counts(normalize=True)"
      ],
      "metadata": {
        "colab": {
          "base_uri": "https://localhost:8080/"
        },
        "id": "oB8FDYbC1rc3",
        "outputId": "6d81aad6-d0ff-4ca6-9dcb-9c4c230d367a"
      },
      "execution_count": null,
      "outputs": [
        {
          "output_type": "execute_result",
          "data": {
            "text/plain": [
              "S    0.724409\n",
              "C    0.188976\n",
              "Q    0.086614\n",
              "Name: Embarked, dtype: float64"
            ]
          },
          "metadata": {},
          "execution_count": 27
        }
      ]
    },
    {
      "cell_type": "code",
      "source": [
        "train_df['Fare'].value_counts()"
      ],
      "metadata": {
        "colab": {
          "base_uri": "https://localhost:8080/"
        },
        "id": "SrAlMyLW1zWh",
        "outputId": "f25cc59e-6379-46da-a8a5-097129e08bd0"
      },
      "execution_count": null,
      "outputs": [
        {
          "output_type": "execute_result",
          "data": {
            "text/plain": [
              "8.0500     43\n",
              "13.0000    42\n",
              "7.8958     38\n",
              "7.7500     34\n",
              "26.0000    31\n",
              "           ..\n",
              "8.4583      1\n",
              "9.8375      1\n",
              "8.3625      1\n",
              "14.1083     1\n",
              "17.4000     1\n",
              "Name: Fare, Length: 248, dtype: int64"
            ]
          },
          "metadata": {},
          "execution_count": 28
        }
      ]
    },
    {
      "cell_type": "code",
      "source": [
        "# corr() : 양의 정수는 비례하는 정도를, 음의 정수는 반비례하는 정도를 의미한다.\n",
        "train_df.corr()"
      ],
      "metadata": {
        "colab": {
          "base_uri": "https://localhost:8080/",
          "height": 237
        },
        "id": "ALCX9CDY17NM",
        "outputId": "0b65f006-0cb0-426a-dab6-78a824c802f0"
      },
      "execution_count": null,
      "outputs": [
        {
          "output_type": "execute_result",
          "data": {
            "text/html": [
              "\n",
              "  <div id=\"df-50a3890d-91db-4b2a-9480-da7e3bc1fa29\">\n",
              "    <div class=\"colab-df-container\">\n",
              "      <div>\n",
              "<style scoped>\n",
              "    .dataframe tbody tr th:only-of-type {\n",
              "        vertical-align: middle;\n",
              "    }\n",
              "\n",
              "    .dataframe tbody tr th {\n",
              "        vertical-align: top;\n",
              "    }\n",
              "\n",
              "    .dataframe thead th {\n",
              "        text-align: right;\n",
              "    }\n",
              "</style>\n",
              "<table border=\"1\" class=\"dataframe\">\n",
              "  <thead>\n",
              "    <tr style=\"text-align: right;\">\n",
              "      <th></th>\n",
              "      <th>Survived</th>\n",
              "      <th>Pclass</th>\n",
              "      <th>Age</th>\n",
              "      <th>SibSp</th>\n",
              "      <th>Parch</th>\n",
              "      <th>Fare</th>\n",
              "    </tr>\n",
              "  </thead>\n",
              "  <tbody>\n",
              "    <tr>\n",
              "      <th>Survived</th>\n",
              "      <td>1.000000</td>\n",
              "      <td>-0.338481</td>\n",
              "      <td>-0.077221</td>\n",
              "      <td>-0.035322</td>\n",
              "      <td>0.081629</td>\n",
              "      <td>0.257307</td>\n",
              "    </tr>\n",
              "    <tr>\n",
              "      <th>Pclass</th>\n",
              "      <td>-0.338481</td>\n",
              "      <td>1.000000</td>\n",
              "      <td>-0.369226</td>\n",
              "      <td>0.083081</td>\n",
              "      <td>0.018443</td>\n",
              "      <td>-0.549500</td>\n",
              "    </tr>\n",
              "    <tr>\n",
              "      <th>Age</th>\n",
              "      <td>-0.077221</td>\n",
              "      <td>-0.369226</td>\n",
              "      <td>1.000000</td>\n",
              "      <td>-0.308247</td>\n",
              "      <td>-0.189119</td>\n",
              "      <td>0.096067</td>\n",
              "    </tr>\n",
              "    <tr>\n",
              "      <th>SibSp</th>\n",
              "      <td>-0.035322</td>\n",
              "      <td>0.083081</td>\n",
              "      <td>-0.308247</td>\n",
              "      <td>1.000000</td>\n",
              "      <td>0.414838</td>\n",
              "      <td>0.159651</td>\n",
              "    </tr>\n",
              "    <tr>\n",
              "      <th>Parch</th>\n",
              "      <td>0.081629</td>\n",
              "      <td>0.018443</td>\n",
              "      <td>-0.189119</td>\n",
              "      <td>0.414838</td>\n",
              "      <td>1.000000</td>\n",
              "      <td>0.216225</td>\n",
              "    </tr>\n",
              "    <tr>\n",
              "      <th>Fare</th>\n",
              "      <td>0.257307</td>\n",
              "      <td>-0.549500</td>\n",
              "      <td>0.096067</td>\n",
              "      <td>0.159651</td>\n",
              "      <td>0.216225</td>\n",
              "      <td>1.000000</td>\n",
              "    </tr>\n",
              "  </tbody>\n",
              "</table>\n",
              "</div>\n",
              "      <button class=\"colab-df-convert\" onclick=\"convertToInteractive('df-50a3890d-91db-4b2a-9480-da7e3bc1fa29')\"\n",
              "              title=\"Convert this dataframe to an interactive table.\"\n",
              "              style=\"display:none;\">\n",
              "        \n",
              "  <svg xmlns=\"http://www.w3.org/2000/svg\" height=\"24px\"viewBox=\"0 0 24 24\"\n",
              "       width=\"24px\">\n",
              "    <path d=\"M0 0h24v24H0V0z\" fill=\"none\"/>\n",
              "    <path d=\"M18.56 5.44l.94 2.06.94-2.06 2.06-.94-2.06-.94-.94-2.06-.94 2.06-2.06.94zm-11 1L8.5 8.5l.94-2.06 2.06-.94-2.06-.94L8.5 2.5l-.94 2.06-2.06.94zm10 10l.94 2.06.94-2.06 2.06-.94-2.06-.94-.94-2.06-.94 2.06-2.06.94z\"/><path d=\"M17.41 7.96l-1.37-1.37c-.4-.4-.92-.59-1.43-.59-.52 0-1.04.2-1.43.59L10.3 9.45l-7.72 7.72c-.78.78-.78 2.05 0 2.83L4 21.41c.39.39.9.59 1.41.59.51 0 1.02-.2 1.41-.59l7.78-7.78 2.81-2.81c.8-.78.8-2.07 0-2.86zM5.41 20L4 18.59l7.72-7.72 1.47 1.35L5.41 20z\"/>\n",
              "  </svg>\n",
              "      </button>\n",
              "      \n",
              "  <style>\n",
              "    .colab-df-container {\n",
              "      display:flex;\n",
              "      flex-wrap:wrap;\n",
              "      gap: 12px;\n",
              "    }\n",
              "\n",
              "    .colab-df-convert {\n",
              "      background-color: #E8F0FE;\n",
              "      border: none;\n",
              "      border-radius: 50%;\n",
              "      cursor: pointer;\n",
              "      display: none;\n",
              "      fill: #1967D2;\n",
              "      height: 32px;\n",
              "      padding: 0 0 0 0;\n",
              "      width: 32px;\n",
              "    }\n",
              "\n",
              "    .colab-df-convert:hover {\n",
              "      background-color: #E2EBFA;\n",
              "      box-shadow: 0px 1px 2px rgba(60, 64, 67, 0.3), 0px 1px 3px 1px rgba(60, 64, 67, 0.15);\n",
              "      fill: #174EA6;\n",
              "    }\n",
              "\n",
              "    [theme=dark] .colab-df-convert {\n",
              "      background-color: #3B4455;\n",
              "      fill: #D2E3FC;\n",
              "    }\n",
              "\n",
              "    [theme=dark] .colab-df-convert:hover {\n",
              "      background-color: #434B5C;\n",
              "      box-shadow: 0px 1px 3px 1px rgba(0, 0, 0, 0.15);\n",
              "      filter: drop-shadow(0px 1px 2px rgba(0, 0, 0, 0.3));\n",
              "      fill: #FFFFFF;\n",
              "    }\n",
              "  </style>\n",
              "\n",
              "      <script>\n",
              "        const buttonEl =\n",
              "          document.querySelector('#df-50a3890d-91db-4b2a-9480-da7e3bc1fa29 button.colab-df-convert');\n",
              "        buttonEl.style.display =\n",
              "          google.colab.kernel.accessAllowed ? 'block' : 'none';\n",
              "\n",
              "        async function convertToInteractive(key) {\n",
              "          const element = document.querySelector('#df-50a3890d-91db-4b2a-9480-da7e3bc1fa29');\n",
              "          const dataTable =\n",
              "            await google.colab.kernel.invokeFunction('convertToInteractive',\n",
              "                                                     [key], {});\n",
              "          if (!dataTable) return;\n",
              "\n",
              "          const docLinkHtml = 'Like what you see? Visit the ' +\n",
              "            '<a target=\"_blank\" href=https://colab.research.google.com/notebooks/data_table.ipynb>data table notebook</a>'\n",
              "            + ' to learn more about interactive tables.';\n",
              "          element.innerHTML = '';\n",
              "          dataTable['output_type'] = 'display_data';\n",
              "          await google.colab.output.renderOutput(dataTable, element);\n",
              "          const docLink = document.createElement('div');\n",
              "          docLink.innerHTML = docLinkHtml;\n",
              "          element.appendChild(docLink);\n",
              "        }\n",
              "      </script>\n",
              "    </div>\n",
              "  </div>\n",
              "  "
            ],
            "text/plain": [
              "          Survived    Pclass       Age     SibSp     Parch      Fare\n",
              "Survived  1.000000 -0.338481 -0.077221 -0.035322  0.081629  0.257307\n",
              "Pclass   -0.338481  1.000000 -0.369226  0.083081  0.018443 -0.549500\n",
              "Age      -0.077221 -0.369226  1.000000 -0.308247 -0.189119  0.096067\n",
              "SibSp    -0.035322  0.083081 -0.308247  1.000000  0.414838  0.159651\n",
              "Parch     0.081629  0.018443 -0.189119  0.414838  1.000000  0.216225\n",
              "Fare      0.257307 -0.549500  0.096067  0.159651  0.216225  1.000000"
            ]
          },
          "metadata": {},
          "execution_count": 29
        }
      ]
    },
    {
      "cell_type": "markdown",
      "source": [
        "- Age 컬럼과 Pclass 컬럼의 상관관계가 가장 높다는 것을 확인할 수 있다."
      ],
      "metadata": {
        "id": "YX6APz_F2B6t"
      }
    },
    {
      "cell_type": "code",
      "source": [
        "# 데이터 미리 보기\n",
        "train_df.head()\n",
        "\n",
        "# 두 변수의 관계에서 설명을 하는 변수 : 설명변수(explanatory variable)\n",
        "# 이에 반응하는 변수를 : 반응변수(response variable)"
      ],
      "metadata": {
        "id": "WSChYr5ZDpUV",
        "colab": {
          "base_uri": "https://localhost:8080/",
          "height": 206
        },
        "outputId": "25d4087b-1e0e-4b00-b5b0-dd3d1d3b3439"
      },
      "execution_count": null,
      "outputs": [
        {
          "output_type": "execute_result",
          "data": {
            "text/html": [
              "\n",
              "  <div id=\"df-8f96b380-aaff-43bb-8095-ce2915dca639\">\n",
              "    <div class=\"colab-df-container\">\n",
              "      <div>\n",
              "<style scoped>\n",
              "    .dataframe tbody tr th:only-of-type {\n",
              "        vertical-align: middle;\n",
              "    }\n",
              "\n",
              "    .dataframe tbody tr th {\n",
              "        vertical-align: top;\n",
              "    }\n",
              "\n",
              "    .dataframe thead th {\n",
              "        text-align: right;\n",
              "    }\n",
              "</style>\n",
              "<table border=\"1\" class=\"dataframe\">\n",
              "  <thead>\n",
              "    <tr style=\"text-align: right;\">\n",
              "      <th></th>\n",
              "      <th>Survived</th>\n",
              "      <th>Pclass</th>\n",
              "      <th>Name</th>\n",
              "      <th>Sex</th>\n",
              "      <th>Age</th>\n",
              "      <th>SibSp</th>\n",
              "      <th>Parch</th>\n",
              "      <th>Ticket</th>\n",
              "      <th>Fare</th>\n",
              "      <th>Cabin</th>\n",
              "      <th>Embarked</th>\n",
              "    </tr>\n",
              "  </thead>\n",
              "  <tbody>\n",
              "    <tr>\n",
              "      <th>0</th>\n",
              "      <td>0</td>\n",
              "      <td>3</td>\n",
              "      <td>Braund, Mr. Owen Harris</td>\n",
              "      <td>male</td>\n",
              "      <td>22.0</td>\n",
              "      <td>1</td>\n",
              "      <td>0</td>\n",
              "      <td>A/5 21171</td>\n",
              "      <td>7.2500</td>\n",
              "      <td>NaN</td>\n",
              "      <td>S</td>\n",
              "    </tr>\n",
              "    <tr>\n",
              "      <th>1</th>\n",
              "      <td>1</td>\n",
              "      <td>1</td>\n",
              "      <td>Cumings, Mrs. John Bradley (Florence Briggs Th...</td>\n",
              "      <td>female</td>\n",
              "      <td>38.0</td>\n",
              "      <td>1</td>\n",
              "      <td>0</td>\n",
              "      <td>PC 17599</td>\n",
              "      <td>71.2833</td>\n",
              "      <td>C85</td>\n",
              "      <td>C</td>\n",
              "    </tr>\n",
              "    <tr>\n",
              "      <th>2</th>\n",
              "      <td>1</td>\n",
              "      <td>3</td>\n",
              "      <td>Heikkinen, Miss. Laina</td>\n",
              "      <td>female</td>\n",
              "      <td>26.0</td>\n",
              "      <td>0</td>\n",
              "      <td>0</td>\n",
              "      <td>STON/O2. 3101282</td>\n",
              "      <td>7.9250</td>\n",
              "      <td>NaN</td>\n",
              "      <td>S</td>\n",
              "    </tr>\n",
              "    <tr>\n",
              "      <th>3</th>\n",
              "      <td>1</td>\n",
              "      <td>1</td>\n",
              "      <td>Futrelle, Mrs. Jacques Heath (Lily May Peel)</td>\n",
              "      <td>female</td>\n",
              "      <td>35.0</td>\n",
              "      <td>1</td>\n",
              "      <td>0</td>\n",
              "      <td>113803</td>\n",
              "      <td>53.1000</td>\n",
              "      <td>C123</td>\n",
              "      <td>S</td>\n",
              "    </tr>\n",
              "    <tr>\n",
              "      <th>4</th>\n",
              "      <td>0</td>\n",
              "      <td>3</td>\n",
              "      <td>Allen, Mr. William Henry</td>\n",
              "      <td>male</td>\n",
              "      <td>35.0</td>\n",
              "      <td>0</td>\n",
              "      <td>0</td>\n",
              "      <td>373450</td>\n",
              "      <td>8.0500</td>\n",
              "      <td>NaN</td>\n",
              "      <td>S</td>\n",
              "    </tr>\n",
              "  </tbody>\n",
              "</table>\n",
              "</div>\n",
              "      <button class=\"colab-df-convert\" onclick=\"convertToInteractive('df-8f96b380-aaff-43bb-8095-ce2915dca639')\"\n",
              "              title=\"Convert this dataframe to an interactive table.\"\n",
              "              style=\"display:none;\">\n",
              "        \n",
              "  <svg xmlns=\"http://www.w3.org/2000/svg\" height=\"24px\"viewBox=\"0 0 24 24\"\n",
              "       width=\"24px\">\n",
              "    <path d=\"M0 0h24v24H0V0z\" fill=\"none\"/>\n",
              "    <path d=\"M18.56 5.44l.94 2.06.94-2.06 2.06-.94-2.06-.94-.94-2.06-.94 2.06-2.06.94zm-11 1L8.5 8.5l.94-2.06 2.06-.94-2.06-.94L8.5 2.5l-.94 2.06-2.06.94zm10 10l.94 2.06.94-2.06 2.06-.94-2.06-.94-.94-2.06-.94 2.06-2.06.94z\"/><path d=\"M17.41 7.96l-1.37-1.37c-.4-.4-.92-.59-1.43-.59-.52 0-1.04.2-1.43.59L10.3 9.45l-7.72 7.72c-.78.78-.78 2.05 0 2.83L4 21.41c.39.39.9.59 1.41.59.51 0 1.02-.2 1.41-.59l7.78-7.78 2.81-2.81c.8-.78.8-2.07 0-2.86zM5.41 20L4 18.59l7.72-7.72 1.47 1.35L5.41 20z\"/>\n",
              "  </svg>\n",
              "      </button>\n",
              "      \n",
              "  <style>\n",
              "    .colab-df-container {\n",
              "      display:flex;\n",
              "      flex-wrap:wrap;\n",
              "      gap: 12px;\n",
              "    }\n",
              "\n",
              "    .colab-df-convert {\n",
              "      background-color: #E8F0FE;\n",
              "      border: none;\n",
              "      border-radius: 50%;\n",
              "      cursor: pointer;\n",
              "      display: none;\n",
              "      fill: #1967D2;\n",
              "      height: 32px;\n",
              "      padding: 0 0 0 0;\n",
              "      width: 32px;\n",
              "    }\n",
              "\n",
              "    .colab-df-convert:hover {\n",
              "      background-color: #E2EBFA;\n",
              "      box-shadow: 0px 1px 2px rgba(60, 64, 67, 0.3), 0px 1px 3px 1px rgba(60, 64, 67, 0.15);\n",
              "      fill: #174EA6;\n",
              "    }\n",
              "\n",
              "    [theme=dark] .colab-df-convert {\n",
              "      background-color: #3B4455;\n",
              "      fill: #D2E3FC;\n",
              "    }\n",
              "\n",
              "    [theme=dark] .colab-df-convert:hover {\n",
              "      background-color: #434B5C;\n",
              "      box-shadow: 0px 1px 3px 1px rgba(0, 0, 0, 0.15);\n",
              "      filter: drop-shadow(0px 1px 2px rgba(0, 0, 0, 0.3));\n",
              "      fill: #FFFFFF;\n",
              "    }\n",
              "  </style>\n",
              "\n",
              "      <script>\n",
              "        const buttonEl =\n",
              "          document.querySelector('#df-8f96b380-aaff-43bb-8095-ce2915dca639 button.colab-df-convert');\n",
              "        buttonEl.style.display =\n",
              "          google.colab.kernel.accessAllowed ? 'block' : 'none';\n",
              "\n",
              "        async function convertToInteractive(key) {\n",
              "          const element = document.querySelector('#df-8f96b380-aaff-43bb-8095-ce2915dca639');\n",
              "          const dataTable =\n",
              "            await google.colab.kernel.invokeFunction('convertToInteractive',\n",
              "                                                     [key], {});\n",
              "          if (!dataTable) return;\n",
              "\n",
              "          const docLinkHtml = 'Like what you see? Visit the ' +\n",
              "            '<a target=\"_blank\" href=https://colab.research.google.com/notebooks/data_table.ipynb>data table notebook</a>'\n",
              "            + ' to learn more about interactive tables.';\n",
              "          element.innerHTML = '';\n",
              "          dataTable['output_type'] = 'display_data';\n",
              "          await google.colab.output.renderOutput(dataTable, element);\n",
              "          const docLink = document.createElement('div');\n",
              "          docLink.innerHTML = docLinkHtml;\n",
              "          element.appendChild(docLink);\n",
              "        }\n",
              "      </script>\n",
              "    </div>\n",
              "  </div>\n",
              "  "
            ],
            "text/plain": [
              "   Survived  Pclass  ... Cabin Embarked\n",
              "0         0       3  ...   NaN        S\n",
              "1         1       1  ...   C85        C\n",
              "2         1       3  ...   NaN        S\n",
              "3         1       1  ...  C123        S\n",
              "4         0       3  ...   NaN        S\n",
              "\n",
              "[5 rows x 11 columns]"
            ]
          },
          "metadata": {},
          "execution_count": 21
        }
      ]
    },
    {
      "cell_type": "code",
      "source": [
        "train_df.tail()"
      ],
      "metadata": {
        "id": "FWVe8T21Hxwg",
        "colab": {
          "base_uri": "https://localhost:8080/",
          "height": 206
        },
        "outputId": "5f83022c-f032-4303-ea4b-286c67f8460b"
      },
      "execution_count": null,
      "outputs": [
        {
          "output_type": "execute_result",
          "data": {
            "text/html": [
              "\n",
              "  <div id=\"df-3689672a-1bad-4a87-9b9f-fe823cf0bf8f\">\n",
              "    <div class=\"colab-df-container\">\n",
              "      <div>\n",
              "<style scoped>\n",
              "    .dataframe tbody tr th:only-of-type {\n",
              "        vertical-align: middle;\n",
              "    }\n",
              "\n",
              "    .dataframe tbody tr th {\n",
              "        vertical-align: top;\n",
              "    }\n",
              "\n",
              "    .dataframe thead th {\n",
              "        text-align: right;\n",
              "    }\n",
              "</style>\n",
              "<table border=\"1\" class=\"dataframe\">\n",
              "  <thead>\n",
              "    <tr style=\"text-align: right;\">\n",
              "      <th></th>\n",
              "      <th>Survived</th>\n",
              "      <th>Pclass</th>\n",
              "      <th>Name</th>\n",
              "      <th>Sex</th>\n",
              "      <th>Age</th>\n",
              "      <th>SibSp</th>\n",
              "      <th>Parch</th>\n",
              "      <th>Ticket</th>\n",
              "      <th>Fare</th>\n",
              "      <th>Cabin</th>\n",
              "      <th>Embarked</th>\n",
              "    </tr>\n",
              "  </thead>\n",
              "  <tbody>\n",
              "    <tr>\n",
              "      <th>886</th>\n",
              "      <td>0</td>\n",
              "      <td>2</td>\n",
              "      <td>Montvila, Rev. Juozas</td>\n",
              "      <td>male</td>\n",
              "      <td>27.0</td>\n",
              "      <td>0</td>\n",
              "      <td>0</td>\n",
              "      <td>211536</td>\n",
              "      <td>13.00</td>\n",
              "      <td>NaN</td>\n",
              "      <td>S</td>\n",
              "    </tr>\n",
              "    <tr>\n",
              "      <th>887</th>\n",
              "      <td>1</td>\n",
              "      <td>1</td>\n",
              "      <td>Graham, Miss. Margaret Edith</td>\n",
              "      <td>female</td>\n",
              "      <td>19.0</td>\n",
              "      <td>0</td>\n",
              "      <td>0</td>\n",
              "      <td>112053</td>\n",
              "      <td>30.00</td>\n",
              "      <td>B42</td>\n",
              "      <td>S</td>\n",
              "    </tr>\n",
              "    <tr>\n",
              "      <th>888</th>\n",
              "      <td>0</td>\n",
              "      <td>3</td>\n",
              "      <td>Johnston, Miss. Catherine Helen \"Carrie\"</td>\n",
              "      <td>female</td>\n",
              "      <td>NaN</td>\n",
              "      <td>1</td>\n",
              "      <td>2</td>\n",
              "      <td>W./C. 6607</td>\n",
              "      <td>23.45</td>\n",
              "      <td>NaN</td>\n",
              "      <td>S</td>\n",
              "    </tr>\n",
              "    <tr>\n",
              "      <th>889</th>\n",
              "      <td>1</td>\n",
              "      <td>1</td>\n",
              "      <td>Behr, Mr. Karl Howell</td>\n",
              "      <td>male</td>\n",
              "      <td>26.0</td>\n",
              "      <td>0</td>\n",
              "      <td>0</td>\n",
              "      <td>111369</td>\n",
              "      <td>30.00</td>\n",
              "      <td>C148</td>\n",
              "      <td>C</td>\n",
              "    </tr>\n",
              "    <tr>\n",
              "      <th>890</th>\n",
              "      <td>0</td>\n",
              "      <td>3</td>\n",
              "      <td>Dooley, Mr. Patrick</td>\n",
              "      <td>male</td>\n",
              "      <td>32.0</td>\n",
              "      <td>0</td>\n",
              "      <td>0</td>\n",
              "      <td>370376</td>\n",
              "      <td>7.75</td>\n",
              "      <td>NaN</td>\n",
              "      <td>Q</td>\n",
              "    </tr>\n",
              "  </tbody>\n",
              "</table>\n",
              "</div>\n",
              "      <button class=\"colab-df-convert\" onclick=\"convertToInteractive('df-3689672a-1bad-4a87-9b9f-fe823cf0bf8f')\"\n",
              "              title=\"Convert this dataframe to an interactive table.\"\n",
              "              style=\"display:none;\">\n",
              "        \n",
              "  <svg xmlns=\"http://www.w3.org/2000/svg\" height=\"24px\"viewBox=\"0 0 24 24\"\n",
              "       width=\"24px\">\n",
              "    <path d=\"M0 0h24v24H0V0z\" fill=\"none\"/>\n",
              "    <path d=\"M18.56 5.44l.94 2.06.94-2.06 2.06-.94-2.06-.94-.94-2.06-.94 2.06-2.06.94zm-11 1L8.5 8.5l.94-2.06 2.06-.94-2.06-.94L8.5 2.5l-.94 2.06-2.06.94zm10 10l.94 2.06.94-2.06 2.06-.94-2.06-.94-.94-2.06-.94 2.06-2.06.94z\"/><path d=\"M17.41 7.96l-1.37-1.37c-.4-.4-.92-.59-1.43-.59-.52 0-1.04.2-1.43.59L10.3 9.45l-7.72 7.72c-.78.78-.78 2.05 0 2.83L4 21.41c.39.39.9.59 1.41.59.51 0 1.02-.2 1.41-.59l7.78-7.78 2.81-2.81c.8-.78.8-2.07 0-2.86zM5.41 20L4 18.59l7.72-7.72 1.47 1.35L5.41 20z\"/>\n",
              "  </svg>\n",
              "      </button>\n",
              "      \n",
              "  <style>\n",
              "    .colab-df-container {\n",
              "      display:flex;\n",
              "      flex-wrap:wrap;\n",
              "      gap: 12px;\n",
              "    }\n",
              "\n",
              "    .colab-df-convert {\n",
              "      background-color: #E8F0FE;\n",
              "      border: none;\n",
              "      border-radius: 50%;\n",
              "      cursor: pointer;\n",
              "      display: none;\n",
              "      fill: #1967D2;\n",
              "      height: 32px;\n",
              "      padding: 0 0 0 0;\n",
              "      width: 32px;\n",
              "    }\n",
              "\n",
              "    .colab-df-convert:hover {\n",
              "      background-color: #E2EBFA;\n",
              "      box-shadow: 0px 1px 2px rgba(60, 64, 67, 0.3), 0px 1px 3px 1px rgba(60, 64, 67, 0.15);\n",
              "      fill: #174EA6;\n",
              "    }\n",
              "\n",
              "    [theme=dark] .colab-df-convert {\n",
              "      background-color: #3B4455;\n",
              "      fill: #D2E3FC;\n",
              "    }\n",
              "\n",
              "    [theme=dark] .colab-df-convert:hover {\n",
              "      background-color: #434B5C;\n",
              "      box-shadow: 0px 1px 3px 1px rgba(0, 0, 0, 0.15);\n",
              "      filter: drop-shadow(0px 1px 2px rgba(0, 0, 0, 0.3));\n",
              "      fill: #FFFFFF;\n",
              "    }\n",
              "  </style>\n",
              "\n",
              "      <script>\n",
              "        const buttonEl =\n",
              "          document.querySelector('#df-3689672a-1bad-4a87-9b9f-fe823cf0bf8f button.colab-df-convert');\n",
              "        buttonEl.style.display =\n",
              "          google.colab.kernel.accessAllowed ? 'block' : 'none';\n",
              "\n",
              "        async function convertToInteractive(key) {\n",
              "          const element = document.querySelector('#df-3689672a-1bad-4a87-9b9f-fe823cf0bf8f');\n",
              "          const dataTable =\n",
              "            await google.colab.kernel.invokeFunction('convertToInteractive',\n",
              "                                                     [key], {});\n",
              "          if (!dataTable) return;\n",
              "\n",
              "          const docLinkHtml = 'Like what you see? Visit the ' +\n",
              "            '<a target=\"_blank\" href=https://colab.research.google.com/notebooks/data_table.ipynb>data table notebook</a>'\n",
              "            + ' to learn more about interactive tables.';\n",
              "          element.innerHTML = '';\n",
              "          dataTable['output_type'] = 'display_data';\n",
              "          await google.colab.output.renderOutput(dataTable, element);\n",
              "          const docLink = document.createElement('div');\n",
              "          docLink.innerHTML = docLinkHtml;\n",
              "          element.appendChild(docLink);\n",
              "        }\n",
              "      </script>\n",
              "    </div>\n",
              "  </div>\n",
              "  "
            ],
            "text/plain": [
              "     Survived  Pclass  ... Cabin Embarked\n",
              "886         0       2  ...   NaN        S\n",
              "887         1       1  ...   B42        S\n",
              "888         0       3  ...   NaN        S\n",
              "889         1       1  ...  C148        C\n",
              "890         0       3  ...   NaN        Q\n",
              "\n",
              "[5 rows x 11 columns]"
            ]
          },
          "metadata": {},
          "execution_count": 22
        }
      ]
    },
    {
      "cell_type": "markdown",
      "source": [
        "### pd.DataFrame.shape\n",
        "- 데이터 프레임의 행의 개수와 열의 개수가 저장되어 있는 속성(attribute)"
      ],
      "metadata": {
        "id": "EpZbuPZy4oSm"
      }
    },
    {
      "cell_type": "code",
      "source": [
        "train_df.shape"
      ],
      "metadata": {
        "colab": {
          "base_uri": "https://localhost:8080/"
        },
        "id": "ovB1cYGZxP_a",
        "outputId": "a0f56d25-6755-43c0-a6b1-eaf7ee502c64"
      },
      "execution_count": null,
      "outputs": [
        {
          "output_type": "execute_result",
          "data": {
            "text/plain": [
              "(891, 14)"
            ]
          },
          "metadata": {},
          "execution_count": 97
        }
      ]
    },
    {
      "cell_type": "markdown",
      "source": [
        "### pd.DataFrame.info()\n",
        "- 데이터셋의 column별 정보를 알려주는 함수\n",
        "- 비어있지 않는 값은 (non-null)은 몇개인지?\n",
        "- coulum type은 무엇인지"
      ],
      "metadata": {
        "id": "6NonTUo-4MvR"
      }
    },
    {
      "cell_type": "code",
      "source": [
        "titanic3_df.info()"
      ],
      "metadata": {
        "colab": {
          "base_uri": "https://localhost:8080/"
        },
        "id": "uPi5d2d-rOEd",
        "outputId": "b98a103f-8cb2-4cd5-c5d1-2a85e752cf1c"
      },
      "execution_count": null,
      "outputs": [
        {
          "output_type": "stream",
          "name": "stdout",
          "text": [
            "<class 'pandas.core.frame.DataFrame'>\n",
            "RangeIndex: 1309 entries, 0 to 1308\n",
            "Data columns (total 14 columns):\n",
            " #   Column     Non-Null Count  Dtype  \n",
            "---  ------     --------------  -----  \n",
            " 0   pclass     1309 non-null   int64  \n",
            " 1   survived   1309 non-null   int64  \n",
            " 2   name       1309 non-null   object \n",
            " 3   sex        1309 non-null   object \n",
            " 4   age        1046 non-null   float64\n",
            " 5   sibsp      1309 non-null   int64  \n",
            " 6   parch      1309 non-null   int64  \n",
            " 7   ticket     1309 non-null   object \n",
            " 8   fare       1308 non-null   float64\n",
            " 9   cabin      295 non-null    object \n",
            " 10  embarked   1307 non-null   object \n",
            " 11  boat       486 non-null    object \n",
            " 12  body       121 non-null    float64\n",
            " 13  home.dest  745 non-null    object \n",
            "dtypes: float64(3), int64(4), object(7)\n",
            "memory usage: 143.3+ KB\n"
          ]
        }
      ]
    },
    {
      "cell_type": "markdown",
      "source": [
        "- Age, Cabin, Embarked 컬럼에 결측치가 있음을 확인"
      ],
      "metadata": {
        "id": "A4nr6406acyH"
      }
    },
    {
      "cell_type": "code",
      "source": [
        "# Survived - 생존 여부\n",
        "train_df.info()"
      ],
      "metadata": {
        "id": "Yvldn8snH4Cw",
        "colab": {
          "base_uri": "https://localhost:8080/"
        },
        "outputId": "cd96cc77-7b75-4359-b9ae-ece40a9013a5"
      },
      "execution_count": null,
      "outputs": [
        {
          "output_type": "stream",
          "name": "stdout",
          "text": [
            "<class 'pandas.core.frame.DataFrame'>\n",
            "RangeIndex: 891 entries, 0 to 890\n",
            "Data columns (total 11 columns):\n",
            " #   Column    Non-Null Count  Dtype  \n",
            "---  ------    --------------  -----  \n",
            " 0   Survived  891 non-null    int64  \n",
            " 1   Pclass    891 non-null    int64  \n",
            " 2   Name      891 non-null    object \n",
            " 3   Sex       891 non-null    object \n",
            " 4   Age       714 non-null    float64\n",
            " 5   SibSp     891 non-null    int64  \n",
            " 6   Parch     891 non-null    int64  \n",
            " 7   Ticket    891 non-null    object \n",
            " 8   Fare      891 non-null    float64\n",
            " 9   Cabin     204 non-null    object \n",
            " 10  Embarked  889 non-null    object \n",
            "dtypes: float64(2), int64(4), object(5)\n",
            "memory usage: 76.7+ KB\n"
          ]
        }
      ]
    },
    {
      "cell_type": "code",
      "source": [
        "# 테스트 자료 정보\n",
        "test_df.info()"
      ],
      "metadata": {
        "id": "YDATbUbOIitP",
        "colab": {
          "base_uri": "https://localhost:8080/"
        },
        "outputId": "b5ae502d-bdfe-45c8-a001-da3f8aa67d08"
      },
      "execution_count": null,
      "outputs": [
        {
          "output_type": "stream",
          "name": "stdout",
          "text": [
            "<class 'pandas.core.frame.DataFrame'>\n",
            "RangeIndex: 418 entries, 0 to 417\n",
            "Data columns (total 10 columns):\n",
            " #   Column    Non-Null Count  Dtype  \n",
            "---  ------    --------------  -----  \n",
            " 0   Pclass    418 non-null    int64  \n",
            " 1   Name      418 non-null    object \n",
            " 2   Sex       418 non-null    object \n",
            " 3   Age       332 non-null    float64\n",
            " 4   SibSp     418 non-null    int64  \n",
            " 5   Parch     418 non-null    int64  \n",
            " 6   Ticket    418 non-null    object \n",
            " 7   Fare      417 non-null    float64\n",
            " 8   Cabin     91 non-null     object \n",
            " 9   Embarked  418 non-null    object \n",
            "dtypes: float64(2), int64(3), object(5)\n",
            "memory usage: 32.8+ KB\n"
          ]
        }
      ]
    },
    {
      "cell_type": "markdown",
      "source": [
        "### pd.DataFrame.describe()\n",
        "- 숫자형 (int, float) column들의 기술 통계량을 보여주는 함수\n",
        "- 기술통계량이란?\n",
        "  - 해당 column을 대표할 수 있는 통계값들을 의미\n",
        "- 기술통계량 종류\n",
        "  - count: 해당 column에서 비어 있지 않은 값의 개수\n",
        "  - mean: 평균\n",
        "  - std: 표준편차\n",
        "  - min: 최솟값 (이상치 포함)\n",
        "  - 25% (Q1): 전체 데이터를 순서대로 정렬했을 때, 아래에서 부터 1/4번째 지점에 있는 값\n",
        "  - 50% (Q2): 중앙값 (전체 데이터를 순서대로 정렬했을 때, 아래에서 부터 2/4번째 지점에 있는 값)\n",
        "  - 75% (Q3): 전체 데이터를 순서대로 정렬했을 때, 아래에서 부터 3/4번째 지점에 있는 값\n",
        "  - max: 최댓값 (이상치 포함)\n",
        "- 이상치: 울타리 밖에 있는 부분을 이상치라고 정의함\n",
        "  - 아래쪽 울타리: Q_1Q1​ - 1.5 * IQR1.5∗IQR\n",
        "  - 위쪽 울타리: Q_3Q3​ + 1.5 * IQR1.5∗IQR\n",
        "  - IQRIQR = Q_3 - Q_1Q3​−Q1​\n",
        "\n",
        "\n",
        "  <img src=\"https://miro.medium.com/max/10125/1*NRlqiZGQdsIyAu0KzP7LaQ.png\"  alt=\"img\" width=\"400\" height=\"400\"/>"
      ],
      "metadata": {
        "id": "OZ7agbIWut5N"
      }
    },
    {
      "cell_type": "code",
      "source": [
        "train_df.describe()"
      ],
      "metadata": {
        "id": "a1A6Ev-1Kn0l",
        "colab": {
          "base_uri": "https://localhost:8080/",
          "height": 300
        },
        "outputId": "22ac60ef-cc65-4ca8-9a0a-097c1ca6328a"
      },
      "execution_count": null,
      "outputs": [
        {
          "output_type": "execute_result",
          "data": {
            "text/html": [
              "\n",
              "  <div id=\"df-008fb0b5-5bdc-4694-a473-666c25258f0c\">\n",
              "    <div class=\"colab-df-container\">\n",
              "      <div>\n",
              "<style scoped>\n",
              "    .dataframe tbody tr th:only-of-type {\n",
              "        vertical-align: middle;\n",
              "    }\n",
              "\n",
              "    .dataframe tbody tr th {\n",
              "        vertical-align: top;\n",
              "    }\n",
              "\n",
              "    .dataframe thead th {\n",
              "        text-align: right;\n",
              "    }\n",
              "</style>\n",
              "<table border=\"1\" class=\"dataframe\">\n",
              "  <thead>\n",
              "    <tr style=\"text-align: right;\">\n",
              "      <th></th>\n",
              "      <th>PassengerId</th>\n",
              "      <th>Survived</th>\n",
              "      <th>Pclass</th>\n",
              "      <th>Age</th>\n",
              "      <th>SibSp</th>\n",
              "      <th>Parch</th>\n",
              "      <th>Fare</th>\n",
              "    </tr>\n",
              "  </thead>\n",
              "  <tbody>\n",
              "    <tr>\n",
              "      <th>count</th>\n",
              "      <td>891.000000</td>\n",
              "      <td>891.000000</td>\n",
              "      <td>891.000000</td>\n",
              "      <td>714.000000</td>\n",
              "      <td>891.000000</td>\n",
              "      <td>891.000000</td>\n",
              "      <td>891.000000</td>\n",
              "    </tr>\n",
              "    <tr>\n",
              "      <th>mean</th>\n",
              "      <td>446.000000</td>\n",
              "      <td>0.383838</td>\n",
              "      <td>2.308642</td>\n",
              "      <td>29.699118</td>\n",
              "      <td>0.523008</td>\n",
              "      <td>0.381594</td>\n",
              "      <td>32.204208</td>\n",
              "    </tr>\n",
              "    <tr>\n",
              "      <th>std</th>\n",
              "      <td>257.353842</td>\n",
              "      <td>0.486592</td>\n",
              "      <td>0.836071</td>\n",
              "      <td>14.526497</td>\n",
              "      <td>1.102743</td>\n",
              "      <td>0.806057</td>\n",
              "      <td>49.693429</td>\n",
              "    </tr>\n",
              "    <tr>\n",
              "      <th>min</th>\n",
              "      <td>1.000000</td>\n",
              "      <td>0.000000</td>\n",
              "      <td>1.000000</td>\n",
              "      <td>0.420000</td>\n",
              "      <td>0.000000</td>\n",
              "      <td>0.000000</td>\n",
              "      <td>0.000000</td>\n",
              "    </tr>\n",
              "    <tr>\n",
              "      <th>25%</th>\n",
              "      <td>223.500000</td>\n",
              "      <td>0.000000</td>\n",
              "      <td>2.000000</td>\n",
              "      <td>20.125000</td>\n",
              "      <td>0.000000</td>\n",
              "      <td>0.000000</td>\n",
              "      <td>7.910400</td>\n",
              "    </tr>\n",
              "    <tr>\n",
              "      <th>50%</th>\n",
              "      <td>446.000000</td>\n",
              "      <td>0.000000</td>\n",
              "      <td>3.000000</td>\n",
              "      <td>28.000000</td>\n",
              "      <td>0.000000</td>\n",
              "      <td>0.000000</td>\n",
              "      <td>14.454200</td>\n",
              "    </tr>\n",
              "    <tr>\n",
              "      <th>75%</th>\n",
              "      <td>668.500000</td>\n",
              "      <td>1.000000</td>\n",
              "      <td>3.000000</td>\n",
              "      <td>38.000000</td>\n",
              "      <td>1.000000</td>\n",
              "      <td>0.000000</td>\n",
              "      <td>31.000000</td>\n",
              "    </tr>\n",
              "    <tr>\n",
              "      <th>max</th>\n",
              "      <td>891.000000</td>\n",
              "      <td>1.000000</td>\n",
              "      <td>3.000000</td>\n",
              "      <td>80.000000</td>\n",
              "      <td>8.000000</td>\n",
              "      <td>6.000000</td>\n",
              "      <td>512.329200</td>\n",
              "    </tr>\n",
              "  </tbody>\n",
              "</table>\n",
              "</div>\n",
              "      <button class=\"colab-df-convert\" onclick=\"convertToInteractive('df-008fb0b5-5bdc-4694-a473-666c25258f0c')\"\n",
              "              title=\"Convert this dataframe to an interactive table.\"\n",
              "              style=\"display:none;\">\n",
              "        \n",
              "  <svg xmlns=\"http://www.w3.org/2000/svg\" height=\"24px\"viewBox=\"0 0 24 24\"\n",
              "       width=\"24px\">\n",
              "    <path d=\"M0 0h24v24H0V0z\" fill=\"none\"/>\n",
              "    <path d=\"M18.56 5.44l.94 2.06.94-2.06 2.06-.94-2.06-.94-.94-2.06-.94 2.06-2.06.94zm-11 1L8.5 8.5l.94-2.06 2.06-.94-2.06-.94L8.5 2.5l-.94 2.06-2.06.94zm10 10l.94 2.06.94-2.06 2.06-.94-2.06-.94-.94-2.06-.94 2.06-2.06.94z\"/><path d=\"M17.41 7.96l-1.37-1.37c-.4-.4-.92-.59-1.43-.59-.52 0-1.04.2-1.43.59L10.3 9.45l-7.72 7.72c-.78.78-.78 2.05 0 2.83L4 21.41c.39.39.9.59 1.41.59.51 0 1.02-.2 1.41-.59l7.78-7.78 2.81-2.81c.8-.78.8-2.07 0-2.86zM5.41 20L4 18.59l7.72-7.72 1.47 1.35L5.41 20z\"/>\n",
              "  </svg>\n",
              "      </button>\n",
              "      \n",
              "  <style>\n",
              "    .colab-df-container {\n",
              "      display:flex;\n",
              "      flex-wrap:wrap;\n",
              "      gap: 12px;\n",
              "    }\n",
              "\n",
              "    .colab-df-convert {\n",
              "      background-color: #E8F0FE;\n",
              "      border: none;\n",
              "      border-radius: 50%;\n",
              "      cursor: pointer;\n",
              "      display: none;\n",
              "      fill: #1967D2;\n",
              "      height: 32px;\n",
              "      padding: 0 0 0 0;\n",
              "      width: 32px;\n",
              "    }\n",
              "\n",
              "    .colab-df-convert:hover {\n",
              "      background-color: #E2EBFA;\n",
              "      box-shadow: 0px 1px 2px rgba(60, 64, 67, 0.3), 0px 1px 3px 1px rgba(60, 64, 67, 0.15);\n",
              "      fill: #174EA6;\n",
              "    }\n",
              "\n",
              "    [theme=dark] .colab-df-convert {\n",
              "      background-color: #3B4455;\n",
              "      fill: #D2E3FC;\n",
              "    }\n",
              "\n",
              "    [theme=dark] .colab-df-convert:hover {\n",
              "      background-color: #434B5C;\n",
              "      box-shadow: 0px 1px 3px 1px rgba(0, 0, 0, 0.15);\n",
              "      filter: drop-shadow(0px 1px 2px rgba(0, 0, 0, 0.3));\n",
              "      fill: #FFFFFF;\n",
              "    }\n",
              "  </style>\n",
              "\n",
              "      <script>\n",
              "        const buttonEl =\n",
              "          document.querySelector('#df-008fb0b5-5bdc-4694-a473-666c25258f0c button.colab-df-convert');\n",
              "        buttonEl.style.display =\n",
              "          google.colab.kernel.accessAllowed ? 'block' : 'none';\n",
              "\n",
              "        async function convertToInteractive(key) {\n",
              "          const element = document.querySelector('#df-008fb0b5-5bdc-4694-a473-666c25258f0c');\n",
              "          const dataTable =\n",
              "            await google.colab.kernel.invokeFunction('convertToInteractive',\n",
              "                                                     [key], {});\n",
              "          if (!dataTable) return;\n",
              "\n",
              "          const docLinkHtml = 'Like what you see? Visit the ' +\n",
              "            '<a target=\"_blank\" href=https://colab.research.google.com/notebooks/data_table.ipynb>data table notebook</a>'\n",
              "            + ' to learn more about interactive tables.';\n",
              "          element.innerHTML = '';\n",
              "          dataTable['output_type'] = 'display_data';\n",
              "          await google.colab.output.renderOutput(dataTable, element);\n",
              "          const docLink = document.createElement('div');\n",
              "          docLink.innerHTML = docLinkHtml;\n",
              "          element.appendChild(docLink);\n",
              "        }\n",
              "      </script>\n",
              "    </div>\n",
              "  </div>\n",
              "  "
            ],
            "text/plain": [
              "       PassengerId    Survived      Pclass  ...       SibSp       Parch        Fare\n",
              "count   891.000000  891.000000  891.000000  ...  891.000000  891.000000  891.000000\n",
              "mean    446.000000    0.383838    2.308642  ...    0.523008    0.381594   32.204208\n",
              "std     257.353842    0.486592    0.836071  ...    1.102743    0.806057   49.693429\n",
              "min       1.000000    0.000000    1.000000  ...    0.000000    0.000000    0.000000\n",
              "25%     223.500000    0.000000    2.000000  ...    0.000000    0.000000    7.910400\n",
              "50%     446.000000    0.000000    3.000000  ...    0.000000    0.000000   14.454200\n",
              "75%     668.500000    1.000000    3.000000  ...    1.000000    0.000000   31.000000\n",
              "max     891.000000    1.000000    3.000000  ...    8.000000    6.000000  512.329200\n",
              "\n",
              "[8 rows x 7 columns]"
            ]
          },
          "metadata": {},
          "execution_count": 20
        }
      ]
    },
    {
      "cell_type": "markdown",
      "source": [
        "+ 훈련 자료 샘플 수 : 891 (count=891)\n",
        "+ 훈련 자료 샘플 내 생존율 : 38.4% (mean의 Survived=0.383838)"
      ],
      "metadata": {
        "id": "j-_VMX0FK1ES"
      }
    },
    {
      "cell_type": "code",
      "source": [
        "titanic3_df.describe()"
      ],
      "metadata": {
        "colab": {
          "base_uri": "https://localhost:8080/",
          "height": 300
        },
        "id": "ILDQJFJgrgb5",
        "outputId": "962a74ea-b357-4a6b-fc00-8da87d95d883"
      },
      "execution_count": null,
      "outputs": [
        {
          "output_type": "execute_result",
          "data": {
            "text/html": [
              "\n",
              "  <div id=\"df-4981f67d-2b06-4493-accb-600ca1ee681d\">\n",
              "    <div class=\"colab-df-container\">\n",
              "      <div>\n",
              "<style scoped>\n",
              "    .dataframe tbody tr th:only-of-type {\n",
              "        vertical-align: middle;\n",
              "    }\n",
              "\n",
              "    .dataframe tbody tr th {\n",
              "        vertical-align: top;\n",
              "    }\n",
              "\n",
              "    .dataframe thead th {\n",
              "        text-align: right;\n",
              "    }\n",
              "</style>\n",
              "<table border=\"1\" class=\"dataframe\">\n",
              "  <thead>\n",
              "    <tr style=\"text-align: right;\">\n",
              "      <th></th>\n",
              "      <th>pclass</th>\n",
              "      <th>survived</th>\n",
              "      <th>age</th>\n",
              "      <th>sibsp</th>\n",
              "      <th>parch</th>\n",
              "      <th>fare</th>\n",
              "      <th>body</th>\n",
              "    </tr>\n",
              "  </thead>\n",
              "  <tbody>\n",
              "    <tr>\n",
              "      <th>count</th>\n",
              "      <td>1309.000000</td>\n",
              "      <td>1309.000000</td>\n",
              "      <td>1046.000000</td>\n",
              "      <td>1309.000000</td>\n",
              "      <td>1309.000000</td>\n",
              "      <td>1308.000000</td>\n",
              "      <td>121.000000</td>\n",
              "    </tr>\n",
              "    <tr>\n",
              "      <th>mean</th>\n",
              "      <td>2.294882</td>\n",
              "      <td>0.381971</td>\n",
              "      <td>29.881135</td>\n",
              "      <td>0.498854</td>\n",
              "      <td>0.385027</td>\n",
              "      <td>33.295479</td>\n",
              "      <td>160.809917</td>\n",
              "    </tr>\n",
              "    <tr>\n",
              "      <th>std</th>\n",
              "      <td>0.837836</td>\n",
              "      <td>0.486055</td>\n",
              "      <td>14.413500</td>\n",
              "      <td>1.041658</td>\n",
              "      <td>0.865560</td>\n",
              "      <td>51.758668</td>\n",
              "      <td>97.696922</td>\n",
              "    </tr>\n",
              "    <tr>\n",
              "      <th>min</th>\n",
              "      <td>1.000000</td>\n",
              "      <td>0.000000</td>\n",
              "      <td>0.166700</td>\n",
              "      <td>0.000000</td>\n",
              "      <td>0.000000</td>\n",
              "      <td>0.000000</td>\n",
              "      <td>1.000000</td>\n",
              "    </tr>\n",
              "    <tr>\n",
              "      <th>25%</th>\n",
              "      <td>2.000000</td>\n",
              "      <td>0.000000</td>\n",
              "      <td>21.000000</td>\n",
              "      <td>0.000000</td>\n",
              "      <td>0.000000</td>\n",
              "      <td>7.895800</td>\n",
              "      <td>72.000000</td>\n",
              "    </tr>\n",
              "    <tr>\n",
              "      <th>50%</th>\n",
              "      <td>3.000000</td>\n",
              "      <td>0.000000</td>\n",
              "      <td>28.000000</td>\n",
              "      <td>0.000000</td>\n",
              "      <td>0.000000</td>\n",
              "      <td>14.454200</td>\n",
              "      <td>155.000000</td>\n",
              "    </tr>\n",
              "    <tr>\n",
              "      <th>75%</th>\n",
              "      <td>3.000000</td>\n",
              "      <td>1.000000</td>\n",
              "      <td>39.000000</td>\n",
              "      <td>1.000000</td>\n",
              "      <td>0.000000</td>\n",
              "      <td>31.275000</td>\n",
              "      <td>256.000000</td>\n",
              "    </tr>\n",
              "    <tr>\n",
              "      <th>max</th>\n",
              "      <td>3.000000</td>\n",
              "      <td>1.000000</td>\n",
              "      <td>80.000000</td>\n",
              "      <td>8.000000</td>\n",
              "      <td>9.000000</td>\n",
              "      <td>512.329200</td>\n",
              "      <td>328.000000</td>\n",
              "    </tr>\n",
              "  </tbody>\n",
              "</table>\n",
              "</div>\n",
              "      <button class=\"colab-df-convert\" onclick=\"convertToInteractive('df-4981f67d-2b06-4493-accb-600ca1ee681d')\"\n",
              "              title=\"Convert this dataframe to an interactive table.\"\n",
              "              style=\"display:none;\">\n",
              "        \n",
              "  <svg xmlns=\"http://www.w3.org/2000/svg\" height=\"24px\"viewBox=\"0 0 24 24\"\n",
              "       width=\"24px\">\n",
              "    <path d=\"M0 0h24v24H0V0z\" fill=\"none\"/>\n",
              "    <path d=\"M18.56 5.44l.94 2.06.94-2.06 2.06-.94-2.06-.94-.94-2.06-.94 2.06-2.06.94zm-11 1L8.5 8.5l.94-2.06 2.06-.94-2.06-.94L8.5 2.5l-.94 2.06-2.06.94zm10 10l.94 2.06.94-2.06 2.06-.94-2.06-.94-.94-2.06-.94 2.06-2.06.94z\"/><path d=\"M17.41 7.96l-1.37-1.37c-.4-.4-.92-.59-1.43-.59-.52 0-1.04.2-1.43.59L10.3 9.45l-7.72 7.72c-.78.78-.78 2.05 0 2.83L4 21.41c.39.39.9.59 1.41.59.51 0 1.02-.2 1.41-.59l7.78-7.78 2.81-2.81c.8-.78.8-2.07 0-2.86zM5.41 20L4 18.59l7.72-7.72 1.47 1.35L5.41 20z\"/>\n",
              "  </svg>\n",
              "      </button>\n",
              "      \n",
              "  <style>\n",
              "    .colab-df-container {\n",
              "      display:flex;\n",
              "      flex-wrap:wrap;\n",
              "      gap: 12px;\n",
              "    }\n",
              "\n",
              "    .colab-df-convert {\n",
              "      background-color: #E8F0FE;\n",
              "      border: none;\n",
              "      border-radius: 50%;\n",
              "      cursor: pointer;\n",
              "      display: none;\n",
              "      fill: #1967D2;\n",
              "      height: 32px;\n",
              "      padding: 0 0 0 0;\n",
              "      width: 32px;\n",
              "    }\n",
              "\n",
              "    .colab-df-convert:hover {\n",
              "      background-color: #E2EBFA;\n",
              "      box-shadow: 0px 1px 2px rgba(60, 64, 67, 0.3), 0px 1px 3px 1px rgba(60, 64, 67, 0.15);\n",
              "      fill: #174EA6;\n",
              "    }\n",
              "\n",
              "    [theme=dark] .colab-df-convert {\n",
              "      background-color: #3B4455;\n",
              "      fill: #D2E3FC;\n",
              "    }\n",
              "\n",
              "    [theme=dark] .colab-df-convert:hover {\n",
              "      background-color: #434B5C;\n",
              "      box-shadow: 0px 1px 3px 1px rgba(0, 0, 0, 0.15);\n",
              "      filter: drop-shadow(0px 1px 2px rgba(0, 0, 0, 0.3));\n",
              "      fill: #FFFFFF;\n",
              "    }\n",
              "  </style>\n",
              "\n",
              "      <script>\n",
              "        const buttonEl =\n",
              "          document.querySelector('#df-4981f67d-2b06-4493-accb-600ca1ee681d button.colab-df-convert');\n",
              "        buttonEl.style.display =\n",
              "          google.colab.kernel.accessAllowed ? 'block' : 'none';\n",
              "\n",
              "        async function convertToInteractive(key) {\n",
              "          const element = document.querySelector('#df-4981f67d-2b06-4493-accb-600ca1ee681d');\n",
              "          const dataTable =\n",
              "            await google.colab.kernel.invokeFunction('convertToInteractive',\n",
              "                                                     [key], {});\n",
              "          if (!dataTable) return;\n",
              "\n",
              "          const docLinkHtml = 'Like what you see? Visit the ' +\n",
              "            '<a target=\"_blank\" href=https://colab.research.google.com/notebooks/data_table.ipynb>data table notebook</a>'\n",
              "            + ' to learn more about interactive tables.';\n",
              "          element.innerHTML = '';\n",
              "          dataTable['output_type'] = 'display_data';\n",
              "          await google.colab.output.renderOutput(dataTable, element);\n",
              "          const docLink = document.createElement('div');\n",
              "          docLink.innerHTML = docLinkHtml;\n",
              "          element.appendChild(docLink);\n",
              "        }\n",
              "      </script>\n",
              "    </div>\n",
              "  </div>\n",
              "  "
            ],
            "text/plain": [
              "            pclass     survived  ...         fare        body\n",
              "count  1309.000000  1309.000000  ...  1308.000000  121.000000\n",
              "mean      2.294882     0.381971  ...    33.295479  160.809917\n",
              "std       0.837836     0.486055  ...    51.758668   97.696922\n",
              "min       1.000000     0.000000  ...     0.000000    1.000000\n",
              "25%       2.000000     0.000000  ...     7.895800   72.000000\n",
              "50%       3.000000     0.000000  ...    14.454200  155.000000\n",
              "75%       3.000000     1.000000  ...    31.275000  256.000000\n",
              "max       3.000000     1.000000  ...   512.329200  328.000000\n",
              "\n",
              "[8 rows x 7 columns]"
            ]
          },
          "metadata": {},
          "execution_count": 21
        }
      ]
    },
    {
      "cell_type": "markdown",
      "source": [
        "- 수치형 자료 : 양적 자료 ex) 키,몸무게,성적\n",
        "  - 연속형 자료 : 키, 몸무게 (연속적 자료)\n",
        "  - 이산형 자료 : 자동차 건수 (셀 수 있는 자료)\n",
        "- 번주형 자료 : 질적 자료 ex) 성별, 선호도, 혈액형\n",
        "  - 순위형 자료 : 선호도 (순서)\n",
        "  - 명목형 자료 : 혈액형 (순서 의미 없음)"
      ],
      "metadata": {
        "id": "mN8muWQj70Fa"
      }
    },
    {
      "cell_type": "code",
      "source": [
        "# 훈련 자료 object 변수 통계치\n",
        "# train_df.describe(include=['O']) #-> 범주형 데이터\n",
        "train_df.describe(include=['object'])\n",
        "# train_df.describe(include=['number'])\n",
        "# train_df.describe(include=\"all\") # 입력의 모든 열"
      ],
      "metadata": {
        "id": "oDmrf-nSLFX_",
        "colab": {
          "base_uri": "https://localhost:8080/",
          "height": 175
        },
        "outputId": "08b83ef4-54db-4a0a-c4ee-b1037c1bbf68"
      },
      "execution_count": null,
      "outputs": [
        {
          "output_type": "execute_result",
          "data": {
            "text/html": [
              "\n",
              "  <div id=\"df-3aeb20c8-6108-4e7b-9d46-17daab3ff3b2\">\n",
              "    <div class=\"colab-df-container\">\n",
              "      <div>\n",
              "<style scoped>\n",
              "    .dataframe tbody tr th:only-of-type {\n",
              "        vertical-align: middle;\n",
              "    }\n",
              "\n",
              "    .dataframe tbody tr th {\n",
              "        vertical-align: top;\n",
              "    }\n",
              "\n",
              "    .dataframe thead th {\n",
              "        text-align: right;\n",
              "    }\n",
              "</style>\n",
              "<table border=\"1\" class=\"dataframe\">\n",
              "  <thead>\n",
              "    <tr style=\"text-align: right;\">\n",
              "      <th></th>\n",
              "      <th>Name</th>\n",
              "      <th>Sex</th>\n",
              "      <th>Ticket</th>\n",
              "      <th>Cabin</th>\n",
              "      <th>Embarked</th>\n",
              "    </tr>\n",
              "  </thead>\n",
              "  <tbody>\n",
              "    <tr>\n",
              "      <th>count</th>\n",
              "      <td>891</td>\n",
              "      <td>891</td>\n",
              "      <td>891</td>\n",
              "      <td>204</td>\n",
              "      <td>889</td>\n",
              "    </tr>\n",
              "    <tr>\n",
              "      <th>unique</th>\n",
              "      <td>891</td>\n",
              "      <td>2</td>\n",
              "      <td>681</td>\n",
              "      <td>147</td>\n",
              "      <td>3</td>\n",
              "    </tr>\n",
              "    <tr>\n",
              "      <th>top</th>\n",
              "      <td>Long, Mr. Milton Clyde</td>\n",
              "      <td>male</td>\n",
              "      <td>CA. 2343</td>\n",
              "      <td>B96 B98</td>\n",
              "      <td>S</td>\n",
              "    </tr>\n",
              "    <tr>\n",
              "      <th>freq</th>\n",
              "      <td>1</td>\n",
              "      <td>577</td>\n",
              "      <td>7</td>\n",
              "      <td>4</td>\n",
              "      <td>644</td>\n",
              "    </tr>\n",
              "  </tbody>\n",
              "</table>\n",
              "</div>\n",
              "      <button class=\"colab-df-convert\" onclick=\"convertToInteractive('df-3aeb20c8-6108-4e7b-9d46-17daab3ff3b2')\"\n",
              "              title=\"Convert this dataframe to an interactive table.\"\n",
              "              style=\"display:none;\">\n",
              "        \n",
              "  <svg xmlns=\"http://www.w3.org/2000/svg\" height=\"24px\"viewBox=\"0 0 24 24\"\n",
              "       width=\"24px\">\n",
              "    <path d=\"M0 0h24v24H0V0z\" fill=\"none\"/>\n",
              "    <path d=\"M18.56 5.44l.94 2.06.94-2.06 2.06-.94-2.06-.94-.94-2.06-.94 2.06-2.06.94zm-11 1L8.5 8.5l.94-2.06 2.06-.94-2.06-.94L8.5 2.5l-.94 2.06-2.06.94zm10 10l.94 2.06.94-2.06 2.06-.94-2.06-.94-.94-2.06-.94 2.06-2.06.94z\"/><path d=\"M17.41 7.96l-1.37-1.37c-.4-.4-.92-.59-1.43-.59-.52 0-1.04.2-1.43.59L10.3 9.45l-7.72 7.72c-.78.78-.78 2.05 0 2.83L4 21.41c.39.39.9.59 1.41.59.51 0 1.02-.2 1.41-.59l7.78-7.78 2.81-2.81c.8-.78.8-2.07 0-2.86zM5.41 20L4 18.59l7.72-7.72 1.47 1.35L5.41 20z\"/>\n",
              "  </svg>\n",
              "      </button>\n",
              "      \n",
              "  <style>\n",
              "    .colab-df-container {\n",
              "      display:flex;\n",
              "      flex-wrap:wrap;\n",
              "      gap: 12px;\n",
              "    }\n",
              "\n",
              "    .colab-df-convert {\n",
              "      background-color: #E8F0FE;\n",
              "      border: none;\n",
              "      border-radius: 50%;\n",
              "      cursor: pointer;\n",
              "      display: none;\n",
              "      fill: #1967D2;\n",
              "      height: 32px;\n",
              "      padding: 0 0 0 0;\n",
              "      width: 32px;\n",
              "    }\n",
              "\n",
              "    .colab-df-convert:hover {\n",
              "      background-color: #E2EBFA;\n",
              "      box-shadow: 0px 1px 2px rgba(60, 64, 67, 0.3), 0px 1px 3px 1px rgba(60, 64, 67, 0.15);\n",
              "      fill: #174EA6;\n",
              "    }\n",
              "\n",
              "    [theme=dark] .colab-df-convert {\n",
              "      background-color: #3B4455;\n",
              "      fill: #D2E3FC;\n",
              "    }\n",
              "\n",
              "    [theme=dark] .colab-df-convert:hover {\n",
              "      background-color: #434B5C;\n",
              "      box-shadow: 0px 1px 3px 1px rgba(0, 0, 0, 0.15);\n",
              "      filter: drop-shadow(0px 1px 2px rgba(0, 0, 0, 0.3));\n",
              "      fill: #FFFFFF;\n",
              "    }\n",
              "  </style>\n",
              "\n",
              "      <script>\n",
              "        const buttonEl =\n",
              "          document.querySelector('#df-3aeb20c8-6108-4e7b-9d46-17daab3ff3b2 button.colab-df-convert');\n",
              "        buttonEl.style.display =\n",
              "          google.colab.kernel.accessAllowed ? 'block' : 'none';\n",
              "\n",
              "        async function convertToInteractive(key) {\n",
              "          const element = document.querySelector('#df-3aeb20c8-6108-4e7b-9d46-17daab3ff3b2');\n",
              "          const dataTable =\n",
              "            await google.colab.kernel.invokeFunction('convertToInteractive',\n",
              "                                                     [key], {});\n",
              "          if (!dataTable) return;\n",
              "\n",
              "          const docLinkHtml = 'Like what you see? Visit the ' +\n",
              "            '<a target=\"_blank\" href=https://colab.research.google.com/notebooks/data_table.ipynb>data table notebook</a>'\n",
              "            + ' to learn more about interactive tables.';\n",
              "          element.innerHTML = '';\n",
              "          dataTable['output_type'] = 'display_data';\n",
              "          await google.colab.output.renderOutput(dataTable, element);\n",
              "          const docLink = document.createElement('div');\n",
              "          docLink.innerHTML = docLinkHtml;\n",
              "          element.appendChild(docLink);\n",
              "        }\n",
              "      </script>\n",
              "    </div>\n",
              "  </div>\n",
              "  "
            ],
            "text/plain": [
              "                          Name   Sex    Ticket    Cabin Embarked\n",
              "count                      891   891       891      204      889\n",
              "unique                     891     2       681      147        3\n",
              "top     Long, Mr. Milton Clyde  male  CA. 2343  B96 B98        S\n",
              "freq                         1   577         7        4      644"
            ]
          },
          "metadata": {},
          "execution_count": 14
        }
      ]
    },
    {
      "cell_type": "markdown",
      "source": [
        "### pd.Series.value_counts()\n",
        "- series 내 고유값들 각각의 개수를 보여줌\n",
        "- 가장 많이 나오는 고유값들 순서로 보여줌\n",
        "- 비어 있는 값은 고려하지 않음"
      ],
      "metadata": {
        "id": "WmmDLTR1AZxo"
      }
    },
    {
      "cell_type": "code",
      "source": [
        "train_df.value_counts()"
      ],
      "metadata": {
        "colab": {
          "base_uri": "https://localhost:8080/"
        },
        "id": "QMU16R0b_qI1",
        "outputId": "e3ed29e2-ae01-43ab-f4e1-f62f73dbdc20"
      },
      "execution_count": null,
      "outputs": [
        {
          "output_type": "execute_result",
          "data": {
            "text/plain": [
              "PassengerId  Survived  Pclass  Name                                                  Sex     Age   SibSp  Parch  Ticket    Fare      Cabin  Embarked\n",
              "890          1         1       Behr, Mr. Karl Howell                                 male    26.0  0      0      111369    30.0000   C148   C           1\n",
              "337          0         1       Pears, Mr. Thomas Clinton                             male    29.0  1      0      113776    66.6000   C2     S           1\n",
              "332          0         1       Partner, Mr. Austen                                   male    45.5  0      0      113043    28.5000   C124   S           1\n",
              "330          1         1       Hippach, Miss. Jean Gertrude                          female  16.0  0      1      111361    57.9792   B18    C           1\n",
              "328          1         2       Ball, Mrs. (Ada E Hall)                               female  36.0  0      0      28551     13.0000   D      S           1\n",
              "                                                                                                                                                       ..\n",
              "584          0         1       Ross, Mr. John Hugo                                   male    36.0  0      0      13049     40.1250   A10    C           1\n",
              "582          1         1       Thayer, Mrs. John Borland (Marian Longstreth Morris)  female  39.0  1      1      17421     110.8833  C68    C           1\n",
              "578          1         1       Silvey, Mrs. William Baird (Alice Munger)             female  39.0  1      0      13507     55.9000   E44    S           1\n",
              "573          1         1       Flynn, Mr. John Irwin (\"Irving\")                      male    36.0  0      0      PC 17474  26.3875   E25    S           1\n",
              "2            1         1       Cumings, Mrs. John Bradley (Florence Briggs Thayer)   female  38.0  1      0      PC 17599  71.2833   C85    C           1\n",
              "Length: 183, dtype: int64"
            ]
          },
          "metadata": {},
          "execution_count": 15
        }
      ]
    },
    {
      "cell_type": "code",
      "source": [
        "train_df.columns.unique"
      ],
      "metadata": {
        "colab": {
          "base_uri": "https://localhost:8080/"
        },
        "id": "UyK4LidDzJCd",
        "outputId": "9a8b9ed3-1dc6-454a-9e5a-ff31cfaace04"
      },
      "execution_count": null,
      "outputs": [
        {
          "output_type": "execute_result",
          "data": {
            "text/plain": [
              "<bound method Index.unique of Index(['PassengerId', 'Survived', 'Pclass', 'Name', 'Sex', 'Age', 'SibSp',\n",
              "       'Parch', 'Ticket', 'Fare', 'Cabin', 'Embarked'],\n",
              "      dtype='object')>"
            ]
          },
          "metadata": {},
          "execution_count": 16
        }
      ]
    },
    {
      "cell_type": "markdown",
      "source": [
        "### training data set에서 객실 등급(Pclass)에 따른 생존율 비교"
      ],
      "metadata": {
        "id": "EOCE5olOQYHX"
      }
    },
    {
      "cell_type": "code",
      "source": [
        "train_df[['Pclass', 'Survived']].groupby(['Pclass'], as_index=False).mean().sort_values(by='Survived', ascending=False)\n",
        "# groupby에 as_index를 False로 하면 Pclass를 index로 사용하지 않음\n",
        "# ascending : 오름차순\n",
        "# as_index를 True로 하면 Pclass를 index로 사용"
      ],
      "metadata": {
        "id": "NkeE07E_Qj0t",
        "colab": {
          "base_uri": "https://localhost:8080/",
          "height": 144
        },
        "outputId": "8571f5fc-8e47-4825-b402-53e3d5945f49"
      },
      "execution_count": null,
      "outputs": [
        {
          "output_type": "execute_result",
          "data": {
            "text/html": [
              "\n",
              "  <div id=\"df-adad7d88-5a97-46a9-8d53-f723431dcfea\">\n",
              "    <div class=\"colab-df-container\">\n",
              "      <div>\n",
              "<style scoped>\n",
              "    .dataframe tbody tr th:only-of-type {\n",
              "        vertical-align: middle;\n",
              "    }\n",
              "\n",
              "    .dataframe tbody tr th {\n",
              "        vertical-align: top;\n",
              "    }\n",
              "\n",
              "    .dataframe thead th {\n",
              "        text-align: right;\n",
              "    }\n",
              "</style>\n",
              "<table border=\"1\" class=\"dataframe\">\n",
              "  <thead>\n",
              "    <tr style=\"text-align: right;\">\n",
              "      <th></th>\n",
              "      <th>Pclass</th>\n",
              "      <th>Survived</th>\n",
              "    </tr>\n",
              "  </thead>\n",
              "  <tbody>\n",
              "    <tr>\n",
              "      <th>0</th>\n",
              "      <td>1</td>\n",
              "      <td>0.629630</td>\n",
              "    </tr>\n",
              "    <tr>\n",
              "      <th>1</th>\n",
              "      <td>2</td>\n",
              "      <td>0.472826</td>\n",
              "    </tr>\n",
              "    <tr>\n",
              "      <th>2</th>\n",
              "      <td>3</td>\n",
              "      <td>0.242363</td>\n",
              "    </tr>\n",
              "  </tbody>\n",
              "</table>\n",
              "</div>\n",
              "      <button class=\"colab-df-convert\" onclick=\"convertToInteractive('df-adad7d88-5a97-46a9-8d53-f723431dcfea')\"\n",
              "              title=\"Convert this dataframe to an interactive table.\"\n",
              "              style=\"display:none;\">\n",
              "        \n",
              "  <svg xmlns=\"http://www.w3.org/2000/svg\" height=\"24px\"viewBox=\"0 0 24 24\"\n",
              "       width=\"24px\">\n",
              "    <path d=\"M0 0h24v24H0V0z\" fill=\"none\"/>\n",
              "    <path d=\"M18.56 5.44l.94 2.06.94-2.06 2.06-.94-2.06-.94-.94-2.06-.94 2.06-2.06.94zm-11 1L8.5 8.5l.94-2.06 2.06-.94-2.06-.94L8.5 2.5l-.94 2.06-2.06.94zm10 10l.94 2.06.94-2.06 2.06-.94-2.06-.94-.94-2.06-.94 2.06-2.06.94z\"/><path d=\"M17.41 7.96l-1.37-1.37c-.4-.4-.92-.59-1.43-.59-.52 0-1.04.2-1.43.59L10.3 9.45l-7.72 7.72c-.78.78-.78 2.05 0 2.83L4 21.41c.39.39.9.59 1.41.59.51 0 1.02-.2 1.41-.59l7.78-7.78 2.81-2.81c.8-.78.8-2.07 0-2.86zM5.41 20L4 18.59l7.72-7.72 1.47 1.35L5.41 20z\"/>\n",
              "  </svg>\n",
              "      </button>\n",
              "      \n",
              "  <style>\n",
              "    .colab-df-container {\n",
              "      display:flex;\n",
              "      flex-wrap:wrap;\n",
              "      gap: 12px;\n",
              "    }\n",
              "\n",
              "    .colab-df-convert {\n",
              "      background-color: #E8F0FE;\n",
              "      border: none;\n",
              "      border-radius: 50%;\n",
              "      cursor: pointer;\n",
              "      display: none;\n",
              "      fill: #1967D2;\n",
              "      height: 32px;\n",
              "      padding: 0 0 0 0;\n",
              "      width: 32px;\n",
              "    }\n",
              "\n",
              "    .colab-df-convert:hover {\n",
              "      background-color: #E2EBFA;\n",
              "      box-shadow: 0px 1px 2px rgba(60, 64, 67, 0.3), 0px 1px 3px 1px rgba(60, 64, 67, 0.15);\n",
              "      fill: #174EA6;\n",
              "    }\n",
              "\n",
              "    [theme=dark] .colab-df-convert {\n",
              "      background-color: #3B4455;\n",
              "      fill: #D2E3FC;\n",
              "    }\n",
              "\n",
              "    [theme=dark] .colab-df-convert:hover {\n",
              "      background-color: #434B5C;\n",
              "      box-shadow: 0px 1px 3px 1px rgba(0, 0, 0, 0.15);\n",
              "      filter: drop-shadow(0px 1px 2px rgba(0, 0, 0, 0.3));\n",
              "      fill: #FFFFFF;\n",
              "    }\n",
              "  </style>\n",
              "\n",
              "      <script>\n",
              "        const buttonEl =\n",
              "          document.querySelector('#df-adad7d88-5a97-46a9-8d53-f723431dcfea button.colab-df-convert');\n",
              "        buttonEl.style.display =\n",
              "          google.colab.kernel.accessAllowed ? 'block' : 'none';\n",
              "\n",
              "        async function convertToInteractive(key) {\n",
              "          const element = document.querySelector('#df-adad7d88-5a97-46a9-8d53-f723431dcfea');\n",
              "          const dataTable =\n",
              "            await google.colab.kernel.invokeFunction('convertToInteractive',\n",
              "                                                     [key], {});\n",
              "          if (!dataTable) return;\n",
              "\n",
              "          const docLinkHtml = 'Like what you see? Visit the ' +\n",
              "            '<a target=\"_blank\" href=https://colab.research.google.com/notebooks/data_table.ipynb>data table notebook</a>'\n",
              "            + ' to learn more about interactive tables.';\n",
              "          element.innerHTML = '';\n",
              "          dataTable['output_type'] = 'display_data';\n",
              "          await google.colab.output.renderOutput(dataTable, element);\n",
              "          const docLink = document.createElement('div');\n",
              "          docLink.innerHTML = docLinkHtml;\n",
              "          element.appendChild(docLink);\n",
              "        }\n",
              "      </script>\n",
              "    </div>\n",
              "  </div>\n",
              "  "
            ],
            "text/plain": [
              "   Pclass  Survived\n",
              "0       1  0.629630\n",
              "1       2  0.472826\n",
              "2       3  0.242363"
            ]
          },
          "metadata": {},
          "execution_count": 30
        }
      ]
    },
    {
      "cell_type": "markdown",
      "source": [
        "- 객실 등급이 좋을 수록 생존율이 높음"
      ],
      "metadata": {
        "id": "wEwDb_OlQ6YA"
      }
    },
    {
      "cell_type": "markdown",
      "source": [
        "### training data set에서 성별(Sex)에 따른 생존율 비교"
      ],
      "metadata": {
        "id": "_0HYM-lvQ-0E"
      }
    },
    {
      "cell_type": "code",
      "source": [
        "train_df.groupby(['Sex','Survived'])['Survived'].count()"
      ],
      "metadata": {
        "colab": {
          "base_uri": "https://localhost:8080/"
        },
        "id": "I18L4Bx4B3Lz",
        "outputId": "14e64be7-9874-4e7a-c470-16d723ad45e7"
      },
      "execution_count": null,
      "outputs": [
        {
          "output_type": "execute_result",
          "data": {
            "text/plain": [
              "Sex     Survived\n",
              "female  0            81\n",
              "        1           233\n",
              "male    0           468\n",
              "        1           109\n",
              "Name: Survived, dtype: int64"
            ]
          },
          "metadata": {},
          "execution_count": 67
        }
      ]
    },
    {
      "cell_type": "code",
      "source": [
        "train_df.groupby(['Sex'])['Survived'].count()"
      ],
      "metadata": {
        "colab": {
          "base_uri": "https://localhost:8080/"
        },
        "id": "l_e2-HGtCFn9",
        "outputId": "739f134e-91a1-497f-c059-b0847ff65b65"
      },
      "execution_count": null,
      "outputs": [
        {
          "output_type": "execute_result",
          "data": {
            "text/plain": [
              "Sex\n",
              "female    314\n",
              "male      577\n",
              "Name: Survived, dtype: int64"
            ]
          },
          "metadata": {},
          "execution_count": 71
        }
      ]
    },
    {
      "cell_type": "markdown",
      "source": [
        "- 여성 : 생존자 233명 사망자 81명 = 314명\n",
        "- 남성 : 생존자 109명, 사망자 468명 = 577명"
      ],
      "metadata": {
        "id": "vQaOsiAYB9cy"
      }
    },
    {
      "cell_type": "code",
      "source": [
        "train_df[[\"Sex\", \"Survived\"]].groupby(['Sex'], as_index=False).mean().sort_values(by='Survived', ascending=False)"
      ],
      "metadata": {
        "id": "LsPifw5RRBOb",
        "colab": {
          "base_uri": "https://localhost:8080/",
          "height": 112
        },
        "outputId": "fa2ea0b8-b124-4111-cb60-3fbf6980278c"
      },
      "execution_count": null,
      "outputs": [
        {
          "output_type": "execute_result",
          "data": {
            "text/html": [
              "\n",
              "  <div id=\"df-8acdc64f-24a6-4e80-9498-95d43a30156e\">\n",
              "    <div class=\"colab-df-container\">\n",
              "      <div>\n",
              "<style scoped>\n",
              "    .dataframe tbody tr th:only-of-type {\n",
              "        vertical-align: middle;\n",
              "    }\n",
              "\n",
              "    .dataframe tbody tr th {\n",
              "        vertical-align: top;\n",
              "    }\n",
              "\n",
              "    .dataframe thead th {\n",
              "        text-align: right;\n",
              "    }\n",
              "</style>\n",
              "<table border=\"1\" class=\"dataframe\">\n",
              "  <thead>\n",
              "    <tr style=\"text-align: right;\">\n",
              "      <th></th>\n",
              "      <th>Sex</th>\n",
              "      <th>Survived</th>\n",
              "    </tr>\n",
              "  </thead>\n",
              "  <tbody>\n",
              "    <tr>\n",
              "      <th>0</th>\n",
              "      <td>female</td>\n",
              "      <td>0.742038</td>\n",
              "    </tr>\n",
              "    <tr>\n",
              "      <th>1</th>\n",
              "      <td>male</td>\n",
              "      <td>0.188908</td>\n",
              "    </tr>\n",
              "  </tbody>\n",
              "</table>\n",
              "</div>\n",
              "      <button class=\"colab-df-convert\" onclick=\"convertToInteractive('df-8acdc64f-24a6-4e80-9498-95d43a30156e')\"\n",
              "              title=\"Convert this dataframe to an interactive table.\"\n",
              "              style=\"display:none;\">\n",
              "        \n",
              "  <svg xmlns=\"http://www.w3.org/2000/svg\" height=\"24px\"viewBox=\"0 0 24 24\"\n",
              "       width=\"24px\">\n",
              "    <path d=\"M0 0h24v24H0V0z\" fill=\"none\"/>\n",
              "    <path d=\"M18.56 5.44l.94 2.06.94-2.06 2.06-.94-2.06-.94-.94-2.06-.94 2.06-2.06.94zm-11 1L8.5 8.5l.94-2.06 2.06-.94-2.06-.94L8.5 2.5l-.94 2.06-2.06.94zm10 10l.94 2.06.94-2.06 2.06-.94-2.06-.94-.94-2.06-.94 2.06-2.06.94z\"/><path d=\"M17.41 7.96l-1.37-1.37c-.4-.4-.92-.59-1.43-.59-.52 0-1.04.2-1.43.59L10.3 9.45l-7.72 7.72c-.78.78-.78 2.05 0 2.83L4 21.41c.39.39.9.59 1.41.59.51 0 1.02-.2 1.41-.59l7.78-7.78 2.81-2.81c.8-.78.8-2.07 0-2.86zM5.41 20L4 18.59l7.72-7.72 1.47 1.35L5.41 20z\"/>\n",
              "  </svg>\n",
              "      </button>\n",
              "      \n",
              "  <style>\n",
              "    .colab-df-container {\n",
              "      display:flex;\n",
              "      flex-wrap:wrap;\n",
              "      gap: 12px;\n",
              "    }\n",
              "\n",
              "    .colab-df-convert {\n",
              "      background-color: #E8F0FE;\n",
              "      border: none;\n",
              "      border-radius: 50%;\n",
              "      cursor: pointer;\n",
              "      display: none;\n",
              "      fill: #1967D2;\n",
              "      height: 32px;\n",
              "      padding: 0 0 0 0;\n",
              "      width: 32px;\n",
              "    }\n",
              "\n",
              "    .colab-df-convert:hover {\n",
              "      background-color: #E2EBFA;\n",
              "      box-shadow: 0px 1px 2px rgba(60, 64, 67, 0.3), 0px 1px 3px 1px rgba(60, 64, 67, 0.15);\n",
              "      fill: #174EA6;\n",
              "    }\n",
              "\n",
              "    [theme=dark] .colab-df-convert {\n",
              "      background-color: #3B4455;\n",
              "      fill: #D2E3FC;\n",
              "    }\n",
              "\n",
              "    [theme=dark] .colab-df-convert:hover {\n",
              "      background-color: #434B5C;\n",
              "      box-shadow: 0px 1px 3px 1px rgba(0, 0, 0, 0.15);\n",
              "      filter: drop-shadow(0px 1px 2px rgba(0, 0, 0, 0.3));\n",
              "      fill: #FFFFFF;\n",
              "    }\n",
              "  </style>\n",
              "\n",
              "      <script>\n",
              "        const buttonEl =\n",
              "          document.querySelector('#df-8acdc64f-24a6-4e80-9498-95d43a30156e button.colab-df-convert');\n",
              "        buttonEl.style.display =\n",
              "          google.colab.kernel.accessAllowed ? 'block' : 'none';\n",
              "\n",
              "        async function convertToInteractive(key) {\n",
              "          const element = document.querySelector('#df-8acdc64f-24a6-4e80-9498-95d43a30156e');\n",
              "          const dataTable =\n",
              "            await google.colab.kernel.invokeFunction('convertToInteractive',\n",
              "                                                     [key], {});\n",
              "          if (!dataTable) return;\n",
              "\n",
              "          const docLinkHtml = 'Like what you see? Visit the ' +\n",
              "            '<a target=\"_blank\" href=https://colab.research.google.com/notebooks/data_table.ipynb>data table notebook</a>'\n",
              "            + ' to learn more about interactive tables.';\n",
              "          element.innerHTML = '';\n",
              "          dataTable['output_type'] = 'display_data';\n",
              "          await google.colab.output.renderOutput(dataTable, element);\n",
              "          const docLink = document.createElement('div');\n",
              "          docLink.innerHTML = docLinkHtml;\n",
              "          element.appendChild(docLink);\n",
              "        }\n",
              "      </script>\n",
              "    </div>\n",
              "  </div>\n",
              "  "
            ],
            "text/plain": [
              "      Sex  Survived\n",
              "0  female  0.742038\n",
              "1    male  0.188908"
            ]
          },
          "metadata": {},
          "execution_count": 31
        }
      ]
    },
    {
      "cell_type": "markdown",
      "source": [
        "- 여성의 생존율이 남성보다 높음"
      ],
      "metadata": {
        "id": "ORf9wwcPScar"
      }
    },
    {
      "cell_type": "code",
      "source": [
        "#성별에 따른 생존율 bar graph\n",
        "f, ax = plt.subplots(1, 2, figsize=(10, 4))\n",
        "train_df[['Sex', 'Survived']].groupby(['Sex'], as_index=True).mean().plot.bar(ax=ax[0])\n",
        "ax[0].set_title('Survived vs Sex')\n",
        "\n",
        "sns.countplot('Sex', hue='Survived', data=train_df, ax=ax[1])\n",
        "ax[1].set_title('Sex:Survived vs Dead')\n",
        "plt.show()"
      ],
      "metadata": {
        "colab": {
          "base_uri": "https://localhost:8080/",
          "height": 327
        },
        "id": "HL46VeOy_a_-",
        "outputId": "aef93614-41e5-49a6-b775-a519c7bb1747"
      },
      "execution_count": null,
      "outputs": [
        {
          "output_type": "display_data",
          "data": {
            "image/png": "[encoded data removed]",
            "text/plain": [
              "<Figure size 720x288 with 2 Axes>"
            ]
          },
          "metadata": {
            "image/png": {
              "width": 599,
              "height": 310
            }
          }
        }
      ]
    },
    {
      "cell_type": "markdown",
      "source": [
        "### training data set에서 함께 승선한 형제자매,배우자 수(SibSp)에 따른 생존율 비교"
      ],
      "metadata": {
        "id": "6HMPNybw3drV"
      }
    },
    {
      "cell_type": "code",
      "source": [
        "train_df[[\"SibSp\", \"Survived\"]].groupby(['SibSp'], as_index=False).mean().sort_values(by='Survived', ascending=False)"
      ],
      "metadata": {
        "id": "32gLuDHKSrwo",
        "colab": {
          "base_uri": "https://localhost:8080/",
          "height": 269
        },
        "outputId": "0f800518-b89d-4c97-feab-6f74af46e8a3"
      },
      "execution_count": null,
      "outputs": [
        {
          "output_type": "execute_result",
          "data": {
            "text/html": [
              "\n",
              "  <div id=\"df-14cc5047-936e-4946-a1dc-86bf57980bb3\">\n",
              "    <div class=\"colab-df-container\">\n",
              "      <div>\n",
              "<style scoped>\n",
              "    .dataframe tbody tr th:only-of-type {\n",
              "        vertical-align: middle;\n",
              "    }\n",
              "\n",
              "    .dataframe tbody tr th {\n",
              "        vertical-align: top;\n",
              "    }\n",
              "\n",
              "    .dataframe thead th {\n",
              "        text-align: right;\n",
              "    }\n",
              "</style>\n",
              "<table border=\"1\" class=\"dataframe\">\n",
              "  <thead>\n",
              "    <tr style=\"text-align: right;\">\n",
              "      <th></th>\n",
              "      <th>SibSp</th>\n",
              "      <th>Survived</th>\n",
              "    </tr>\n",
              "  </thead>\n",
              "  <tbody>\n",
              "    <tr>\n",
              "      <th>1</th>\n",
              "      <td>1</td>\n",
              "      <td>0.535885</td>\n",
              "    </tr>\n",
              "    <tr>\n",
              "      <th>2</th>\n",
              "      <td>2</td>\n",
              "      <td>0.464286</td>\n",
              "    </tr>\n",
              "    <tr>\n",
              "      <th>0</th>\n",
              "      <td>0</td>\n",
              "      <td>0.345395</td>\n",
              "    </tr>\n",
              "    <tr>\n",
              "      <th>3</th>\n",
              "      <td>3</td>\n",
              "      <td>0.250000</td>\n",
              "    </tr>\n",
              "    <tr>\n",
              "      <th>4</th>\n",
              "      <td>4</td>\n",
              "      <td>0.166667</td>\n",
              "    </tr>\n",
              "    <tr>\n",
              "      <th>5</th>\n",
              "      <td>5</td>\n",
              "      <td>0.000000</td>\n",
              "    </tr>\n",
              "    <tr>\n",
              "      <th>6</th>\n",
              "      <td>8</td>\n",
              "      <td>0.000000</td>\n",
              "    </tr>\n",
              "  </tbody>\n",
              "</table>\n",
              "</div>\n",
              "      <button class=\"colab-df-convert\" onclick=\"convertToInteractive('df-14cc5047-936e-4946-a1dc-86bf57980bb3')\"\n",
              "              title=\"Convert this dataframe to an interactive table.\"\n",
              "              style=\"display:none;\">\n",
              "        \n",
              "  <svg xmlns=\"http://www.w3.org/2000/svg\" height=\"24px\"viewBox=\"0 0 24 24\"\n",
              "       width=\"24px\">\n",
              "    <path d=\"M0 0h24v24H0V0z\" fill=\"none\"/>\n",
              "    <path d=\"M18.56 5.44l.94 2.06.94-2.06 2.06-.94-2.06-.94-.94-2.06-.94 2.06-2.06.94zm-11 1L8.5 8.5l.94-2.06 2.06-.94-2.06-.94L8.5 2.5l-.94 2.06-2.06.94zm10 10l.94 2.06.94-2.06 2.06-.94-2.06-.94-.94-2.06-.94 2.06-2.06.94z\"/><path d=\"M17.41 7.96l-1.37-1.37c-.4-.4-.92-.59-1.43-.59-.52 0-1.04.2-1.43.59L10.3 9.45l-7.72 7.72c-.78.78-.78 2.05 0 2.83L4 21.41c.39.39.9.59 1.41.59.51 0 1.02-.2 1.41-.59l7.78-7.78 2.81-2.81c.8-.78.8-2.07 0-2.86zM5.41 20L4 18.59l7.72-7.72 1.47 1.35L5.41 20z\"/>\n",
              "  </svg>\n",
              "      </button>\n",
              "      \n",
              "  <style>\n",
              "    .colab-df-container {\n",
              "      display:flex;\n",
              "      flex-wrap:wrap;\n",
              "      gap: 12px;\n",
              "    }\n",
              "\n",
              "    .colab-df-convert {\n",
              "      background-color: #E8F0FE;\n",
              "      border: none;\n",
              "      border-radius: 50%;\n",
              "      cursor: pointer;\n",
              "      display: none;\n",
              "      fill: #1967D2;\n",
              "      height: 32px;\n",
              "      padding: 0 0 0 0;\n",
              "      width: 32px;\n",
              "    }\n",
              "\n",
              "    .colab-df-convert:hover {\n",
              "      background-color: #E2EBFA;\n",
              "      box-shadow: 0px 1px 2px rgba(60, 64, 67, 0.3), 0px 1px 3px 1px rgba(60, 64, 67, 0.15);\n",
              "      fill: #174EA6;\n",
              "    }\n",
              "\n",
              "    [theme=dark] .colab-df-convert {\n",
              "      background-color: #3B4455;\n",
              "      fill: #D2E3FC;\n",
              "    }\n",
              "\n",
              "    [theme=dark] .colab-df-convert:hover {\n",
              "      background-color: #434B5C;\n",
              "      box-shadow: 0px 1px 3px 1px rgba(0, 0, 0, 0.15);\n",
              "      filter: drop-shadow(0px 1px 2px rgba(0, 0, 0, 0.3));\n",
              "      fill: #FFFFFF;\n",
              "    }\n",
              "  </style>\n",
              "\n",
              "      <script>\n",
              "        const buttonEl =\n",
              "          document.querySelector('#df-14cc5047-936e-4946-a1dc-86bf57980bb3 button.colab-df-convert');\n",
              "        buttonEl.style.display =\n",
              "          google.colab.kernel.accessAllowed ? 'block' : 'none';\n",
              "\n",
              "        async function convertToInteractive(key) {\n",
              "          const element = document.querySelector('#df-14cc5047-936e-4946-a1dc-86bf57980bb3');\n",
              "          const dataTable =\n",
              "            await google.colab.kernel.invokeFunction('convertToInteractive',\n",
              "                                                     [key], {});\n",
              "          if (!dataTable) return;\n",
              "\n",
              "          const docLinkHtml = 'Like what you see? Visit the ' +\n",
              "            '<a target=\"_blank\" href=https://colab.research.google.com/notebooks/data_table.ipynb>data table notebook</a>'\n",
              "            + ' to learn more about interactive tables.';\n",
              "          element.innerHTML = '';\n",
              "          dataTable['output_type'] = 'display_data';\n",
              "          await google.colab.output.renderOutput(dataTable, element);\n",
              "          const docLink = document.createElement('div');\n",
              "          docLink.innerHTML = docLinkHtml;\n",
              "          element.appendChild(docLink);\n",
              "        }\n",
              "      </script>\n",
              "    </div>\n",
              "  </div>\n",
              "  "
            ],
            "text/plain": [
              "   SibSp  Survived\n",
              "1      1  0.535885\n",
              "2      2  0.464286\n",
              "0      0  0.345395\n",
              "3      3  0.250000\n",
              "4      4  0.166667\n",
              "5      5  0.000000\n",
              "6      8  0.000000"
            ]
          },
          "metadata": {},
          "execution_count": 32
        }
      ]
    },
    {
      "cell_type": "markdown",
      "source": [
        "- 형제자매와 배우자 수(SibSp)가 작을수록 생존확률이 높음"
      ],
      "metadata": {
        "id": "2i_4-YmfSuzv"
      }
    },
    {
      "cell_type": "markdown",
      "source": [
        "### training data set에서 함께 승선한 부모와 자식 수(Parch)에 따른 생존율 비교"
      ],
      "metadata": {
        "id": "Bwhv_gutUvhe"
      }
    },
    {
      "cell_type": "code",
      "source": [
        "train_df[[\"Parch\", \"Survived\"]].groupby(['Parch'], as_index=False).mean().sort_values(by='Survived', ascending=False)"
      ],
      "metadata": {
        "id": "-l8ujuFiU2AN",
        "colab": {
          "base_uri": "https://localhost:8080/",
          "height": 269
        },
        "outputId": "7048823d-dc1e-4ff0-9a7f-bb4d7422dea3"
      },
      "execution_count": null,
      "outputs": [
        {
          "output_type": "execute_result",
          "data": {
            "text/html": [
              "\n",
              "  <div id=\"df-1ce6e026-68dc-4c13-b3fc-f88f6d217e90\">\n",
              "    <div class=\"colab-df-container\">\n",
              "      <div>\n",
              "<style scoped>\n",
              "    .dataframe tbody tr th:only-of-type {\n",
              "        vertical-align: middle;\n",
              "    }\n",
              "\n",
              "    .dataframe tbody tr th {\n",
              "        vertical-align: top;\n",
              "    }\n",
              "\n",
              "    .dataframe thead th {\n",
              "        text-align: right;\n",
              "    }\n",
              "</style>\n",
              "<table border=\"1\" class=\"dataframe\">\n",
              "  <thead>\n",
              "    <tr style=\"text-align: right;\">\n",
              "      <th></th>\n",
              "      <th>Parch</th>\n",
              "      <th>Survived</th>\n",
              "    </tr>\n",
              "  </thead>\n",
              "  <tbody>\n",
              "    <tr>\n",
              "      <th>3</th>\n",
              "      <td>3</td>\n",
              "      <td>0.600000</td>\n",
              "    </tr>\n",
              "    <tr>\n",
              "      <th>1</th>\n",
              "      <td>1</td>\n",
              "      <td>0.550847</td>\n",
              "    </tr>\n",
              "    <tr>\n",
              "      <th>2</th>\n",
              "      <td>2</td>\n",
              "      <td>0.500000</td>\n",
              "    </tr>\n",
              "    <tr>\n",
              "      <th>0</th>\n",
              "      <td>0</td>\n",
              "      <td>0.343658</td>\n",
              "    </tr>\n",
              "    <tr>\n",
              "      <th>5</th>\n",
              "      <td>5</td>\n",
              "      <td>0.200000</td>\n",
              "    </tr>\n",
              "    <tr>\n",
              "      <th>4</th>\n",
              "      <td>4</td>\n",
              "      <td>0.000000</td>\n",
              "    </tr>\n",
              "    <tr>\n",
              "      <th>6</th>\n",
              "      <td>6</td>\n",
              "      <td>0.000000</td>\n",
              "    </tr>\n",
              "  </tbody>\n",
              "</table>\n",
              "</div>\n",
              "      <button class=\"colab-df-convert\" onclick=\"convertToInteractive('df-1ce6e026-68dc-4c13-b3fc-f88f6d217e90')\"\n",
              "              title=\"Convert this dataframe to an interactive table.\"\n",
              "              style=\"display:none;\">\n",
              "        \n",
              "  <svg xmlns=\"http://www.w3.org/2000/svg\" height=\"24px\"viewBox=\"0 0 24 24\"\n",
              "       width=\"24px\">\n",
              "    <path d=\"M0 0h24v24H0V0z\" fill=\"none\"/>\n",
              "    <path d=\"M18.56 5.44l.94 2.06.94-2.06 2.06-.94-2.06-.94-.94-2.06-.94 2.06-2.06.94zm-11 1L8.5 8.5l.94-2.06 2.06-.94-2.06-.94L8.5 2.5l-.94 2.06-2.06.94zm10 10l.94 2.06.94-2.06 2.06-.94-2.06-.94-.94-2.06-.94 2.06-2.06.94z\"/><path d=\"M17.41 7.96l-1.37-1.37c-.4-.4-.92-.59-1.43-.59-.52 0-1.04.2-1.43.59L10.3 9.45l-7.72 7.72c-.78.78-.78 2.05 0 2.83L4 21.41c.39.39.9.59 1.41.59.51 0 1.02-.2 1.41-.59l7.78-7.78 2.81-2.81c.8-.78.8-2.07 0-2.86zM5.41 20L4 18.59l7.72-7.72 1.47 1.35L5.41 20z\"/>\n",
              "  </svg>\n",
              "      </button>\n",
              "      \n",
              "  <style>\n",
              "    .colab-df-container {\n",
              "      display:flex;\n",
              "      flex-wrap:wrap;\n",
              "      gap: 12px;\n",
              "    }\n",
              "\n",
              "    .colab-df-convert {\n",
              "      background-color: #E8F0FE;\n",
              "      border: none;\n",
              "      border-radius: 50%;\n",
              "      cursor: pointer;\n",
              "      display: none;\n",
              "      fill: #1967D2;\n",
              "      height: 32px;\n",
              "      padding: 0 0 0 0;\n",
              "      width: 32px;\n",
              "    }\n",
              "\n",
              "    .colab-df-convert:hover {\n",
              "      background-color: #E2EBFA;\n",
              "      box-shadow: 0px 1px 2px rgba(60, 64, 67, 0.3), 0px 1px 3px 1px rgba(60, 64, 67, 0.15);\n",
              "      fill: #174EA6;\n",
              "    }\n",
              "\n",
              "    [theme=dark] .colab-df-convert {\n",
              "      background-color: #3B4455;\n",
              "      fill: #D2E3FC;\n",
              "    }\n",
              "\n",
              "    [theme=dark] .colab-df-convert:hover {\n",
              "      background-color: #434B5C;\n",
              "      box-shadow: 0px 1px 3px 1px rgba(0, 0, 0, 0.15);\n",
              "      filter: drop-shadow(0px 1px 2px rgba(0, 0, 0, 0.3));\n",
              "      fill: #FFFFFF;\n",
              "    }\n",
              "  </style>\n",
              "\n",
              "      <script>\n",
              "        const buttonEl =\n",
              "          document.querySelector('#df-1ce6e026-68dc-4c13-b3fc-f88f6d217e90 button.colab-df-convert');\n",
              "        buttonEl.style.display =\n",
              "          google.colab.kernel.accessAllowed ? 'block' : 'none';\n",
              "\n",
              "        async function convertToInteractive(key) {\n",
              "          const element = document.querySelector('#df-1ce6e026-68dc-4c13-b3fc-f88f6d217e90');\n",
              "          const dataTable =\n",
              "            await google.colab.kernel.invokeFunction('convertToInteractive',\n",
              "                                                     [key], {});\n",
              "          if (!dataTable) return;\n",
              "\n",
              "          const docLinkHtml = 'Like what you see? Visit the ' +\n",
              "            '<a target=\"_blank\" href=https://colab.research.google.com/notebooks/data_table.ipynb>data table notebook</a>'\n",
              "            + ' to learn more about interactive tables.';\n",
              "          element.innerHTML = '';\n",
              "          dataTable['output_type'] = 'display_data';\n",
              "          await google.colab.output.renderOutput(dataTable, element);\n",
              "          const docLink = document.createElement('div');\n",
              "          docLink.innerHTML = docLinkHtml;\n",
              "          element.appendChild(docLink);\n",
              "        }\n",
              "      </script>\n",
              "    </div>\n",
              "  </div>\n",
              "  "
            ],
            "text/plain": [
              "   Parch  Survived\n",
              "3      3  0.600000\n",
              "1      1  0.550847\n",
              "2      2  0.500000\n",
              "0      0  0.343658\n",
              "5      5  0.200000\n",
              "4      4  0.000000\n",
              "6      6  0.000000"
            ]
          },
          "metadata": {},
          "execution_count": 99
        }
      ]
    },
    {
      "cell_type": "markdown",
      "source": [
        "- 식솔들 1,2,3명일 경우 생존률이 높다 \n",
        "- 4,5,6명일 경우 생존률이 낮다"
      ],
      "metadata": {
        "id": "U8maeZpyU7iw"
      }
    },
    {
      "cell_type": "markdown",
      "source": [
        "### training data set에서 함께 승선한 형제자매,배우자 수(SibSp) + 부모, 자식 수 (Parch)에 따른 생존율 비교"
      ],
      "metadata": {
        "id": "jv8uKxVaSiuP"
      }
    },
    {
      "cell_type": "code",
      "source": [
        "# 위 두 컬럼을 합하여 해당 승객이 속한 가족구성원의 총 수를 구하여 새로운 파생변수를 생성\n",
        "train_df['Family_size']=train_df['SibSp'] + train_df['Parch'] + 1\n",
        "sns.countplot(data = train_df, x='Family_size', hue='Survived')"
      ],
      "metadata": {
        "colab": {
          "base_uri": "https://localhost:8080/",
          "height": 321
        },
        "id": "NIMgsasH3j60",
        "outputId": "80e804f5-1957-42bc-b38a-4f530bb16c2f"
      },
      "execution_count": null,
      "outputs": [
        {
          "output_type": "execute_result",
          "data": {
            "text/plain": [
              "<matplotlib.axes._subplots.AxesSubplot at 0x7f020bcc1f50>"
            ]
          },
          "metadata": {},
          "execution_count": 35
        },
        {
          "output_type": "stream",
          "name": "stderr",
          "text": [
            "findfont: Font family ['NanumBarunGothic'] not found. Falling back to DejaVu Sans.\n",
            "findfont: Font family ['NanumBarunGothic'] not found. Falling back to DejaVu Sans.\n"
          ]
        },
        {
          "output_type": "display_data",
          "data": {
            "image/png": "[encoded data removed]",
            "text/plain": [
              "<Figure size 432x288 with 1 Axes>"
            ]
          },
          "metadata": {
            "image/png": {
              "width": 395,
              "height": 267
            }
          }
        }
      ]
    },
    {
      "cell_type": "markdown",
      "source": [
        "- 가족이 없는 경우 사망률이 더 높다.\n",
        "- 2-4 명의 가족이 있는 경우 생존률이 비교적 높다."
      ],
      "metadata": {
        "id": "bvyxj2O332wk"
      }
    },
    {
      "cell_type": "markdown",
      "source": [
        "### training data set에서 생존 여부(Survived)에 따른 연령(Age) 분포"
      ],
      "metadata": {
        "id": "UFp-AjxGVPDI"
      }
    },
    {
      "cell_type": "code",
      "source": [
        "# 열(col)을 생존 여부로 나눔\n",
        "# FacetGrid(data, row, col, hue) : 다중 플롯 그리드를 만들어서 여러가지 쌍 관계를 표현하기 위한 그리드 Class이다. 도화지에 축을 나누는 것과 같다. \n",
        "g = sns.FacetGrid(train_df, col='Survived')\n",
        "# 히스토그램으로 시각화, 연령의 분포를 확인, 히스토그램 bin을 20개로 설정\n",
        "# bins 파라미터는 히스토그램의 가로축 구간의 개수를 지정합니다.\n",
        "g.map(plt.hist, 'Age', bins=20)\n",
        "# 1이 생존"
      ],
      "metadata": {
        "id": "zOj1A-mJVOla",
        "colab": {
          "base_uri": "https://localhost:8080/",
          "height": 237
        },
        "outputId": "a5c86423-e0de-4f56-db0a-032a6d2aba1b"
      },
      "execution_count": null,
      "outputs": [
        {
          "output_type": "execute_result",
          "data": {
            "text/plain": [
              "<seaborn.axisgrid.FacetGrid at 0x7f020b2b8650>"
            ]
          },
          "metadata": {},
          "execution_count": 64
        },
        {
          "output_type": "display_data",
          "data": {
            "image/png": "[encoded data removed]",
            "text/plain": [
              "<Figure size 432x216 with 2 Axes>"
            ]
          },
          "metadata": {
            "image/png": {
              "width": 420,
              "height": 202
            }
          }
        }
      ]
    },
    {
      "cell_type": "markdown",
      "source": [
        "- 4세 이하의 유아의 생존율이 높음\n",
        "- 15 ~ 25세 승객들의 생존율이 높음"
      ],
      "metadata": {
        "id": "buof5kFCVqvY"
      }
    },
    {
      "cell_type": "markdown",
      "source": [
        "### training data set에서 객실 등급(Pclass)과 생존 여부(Survived)에 따른 연령(Age) 분포"
      ],
      "metadata": {
        "id": "cHD3zumdVSw7"
      }
    },
    {
      "cell_type": "code",
      "source": [
        "# 열을 생존 여부, 행(row)과 색깔(hue)을 객실 등급으로 나눔, width = height * aspect\n",
        "grid = sns.FacetGrid(train_df, col='Survived', row='Pclass', hue=\"Pclass\", height=2.5, aspect=1.6)\n",
        "grid.map(plt.hist, 'Age', alpha=.9, bins=20) # 투명도(alpha): 0.5\n",
        "\n",
        "# 범례 추가\n",
        "grid.add_legend();"
      ],
      "metadata": {
        "id": "FjNDhHmkVV8A",
        "colab": {
          "base_uri": "https://localhost:8080/",
          "height": 543
        },
        "outputId": "92ab0603-1506-4aaa-ad80-0584609d8da4"
      },
      "execution_count": null,
      "outputs": [
        {
          "output_type": "display_data",
          "data": {
            "image/png": "[encoded data removed]",
            "text/plain": [
              "<Figure size 622.6x540 with 6 Axes>"
            ]
          },
          "metadata": {
            "image/png": {
              "width": 615,
              "height": 526
            }
          }
        }
      ]
    },
    {
      "cell_type": "markdown",
      "source": [
        "+ 객실 등급이 3등급인 경우, 승객 수는 가장 많고, 생존율도 가장 낮음\n",
        "+ 객실 등급이 2등급인 유아는 대부분 생존함\n",
        "+ 객실 등급이 1등급인 경우 생존율이 비교적 높음"
      ],
      "metadata": {
        "id": "CKMPPckgVXSD"
      }
    },
    {
      "cell_type": "markdown",
      "source": [
        "### training data set에서 승선지(Embarked)와 객실 등급(Pclass)에 따른 생존율(Survived)"
      ],
      "metadata": {
        "id": "EQAyNbONVZvY"
      }
    },
    {
      "cell_type": "code",
      "source": [
        "grid = sns.FacetGrid(train_df, row='Embarked', height=2.2, aspect=1.6)\n",
        "\n",
        "# Pointplot으로 시각화, x: 객실 등급, y: 생존 여부, 색깔: 성별, x축 순서: [1, 2, 3], 색깔 순서: [남성, 여성]\n",
        "grid.map(sns.pointplot, 'Pclass', 'Survived', 'Sex', palette='deep', order = [1, 2, 3], hue_order = [\"male\", \"female\"])\n",
        "\n",
        "grid.add_legend()"
      ],
      "metadata": {
        "id": "RbhigQMjVbOv",
        "colab": {
          "base_uri": "https://localhost:8080/",
          "height": 497
        },
        "outputId": "21794cdd-c3ed-4906-ba46-9fe915669485"
      },
      "execution_count": null,
      "outputs": [
        {
          "output_type": "execute_result",
          "data": {
            "text/plain": [
              "<seaborn.axisgrid.FacetGrid at 0x7f01fce723d0>"
            ]
          },
          "metadata": {},
          "execution_count": 80
        },
        {
          "output_type": "display_data",
          "data": {
            "image/png": "[encoded data removed]",
            "text/plain": [
              "<Figure size 331.415x475.2 with 3 Axes>"
            ]
          },
          "metadata": {
            "image/png": {
              "width": 307,
              "height": 462
            }
          }
        }
      ]
    },
    {
      "cell_type": "code",
      "source": [
        "pd.crosstab([train_df.Embarked,train_df.Pclass],[train_df.Sex,train_df.Survived],margins=True).style.background_gradient(cmap='summer_r')"
      ],
      "metadata": {
        "colab": {
          "base_uri": "https://localhost:8080/",
          "height": 425
        },
        "id": "RAcAk-X4Ehv6",
        "outputId": "7f50ab5f-361e-45cc-eff5-56f6b9854ec5"
      },
      "execution_count": null,
      "outputs": [
        {
          "output_type": "execute_result",
          "data": {
            "text/html": [
              "<style  type=\"text/css\" >\n",
              "#T_e3cf2d88_801e_11ec_828b_0242ac1c0002row0_col0,#T_e3cf2d88_801e_11ec_828b_0242ac1c0002row1_col2{\n",
              "            background-color:  #fcfe66;\n",
              "            color:  #000000;\n",
              "        }#T_e3cf2d88_801e_11ec_828b_0242ac1c0002row0_col1{\n",
              "            background-color:  #d2e866;\n",
              "            color:  #000000;\n",
              "        }#T_e3cf2d88_801e_11ec_828b_0242ac1c0002row0_col2{\n",
              "            background-color:  #f2f866;\n",
              "            color:  #000000;\n",
              "        }#T_e3cf2d88_801e_11ec_828b_0242ac1c0002row0_col3{\n",
              "            background-color:  #d8ec66;\n",
              "            color:  #000000;\n",
              "        }#T_e3cf2d88_801e_11ec_828b_0242ac1c0002row0_col4,#T_e3cf2d88_801e_11ec_828b_0242ac1c0002row2_col3{\n",
              "            background-color:  #e8f466;\n",
              "            color:  #000000;\n",
              "        }#T_e3cf2d88_801e_11ec_828b_0242ac1c0002row1_col0,#T_e3cf2d88_801e_11ec_828b_0242ac1c0002row3_col0,#T_e3cf2d88_801e_11ec_828b_0242ac1c0002row3_col1,#T_e3cf2d88_801e_11ec_828b_0242ac1c0002row3_col2,#T_e3cf2d88_801e_11ec_828b_0242ac1c0002row3_col3,#T_e3cf2d88_801e_11ec_828b_0242ac1c0002row3_col4,#T_e3cf2d88_801e_11ec_828b_0242ac1c0002row4_col0,#T_e3cf2d88_801e_11ec_828b_0242ac1c0002row4_col2,#T_e3cf2d88_801e_11ec_828b_0242ac1c0002row4_col3,#T_e3cf2d88_801e_11ec_828b_0242ac1c0002row4_col4{\n",
              "            background-color:  #ffff66;\n",
              "            color:  #000000;\n",
              "        }#T_e3cf2d88_801e_11ec_828b_0242ac1c0002row1_col1,#T_e3cf2d88_801e_11ec_828b_0242ac1c0002row6_col0{\n",
              "            background-color:  #f9fc66;\n",
              "            color:  #000000;\n",
              "        }#T_e3cf2d88_801e_11ec_828b_0242ac1c0002row1_col3,#T_e3cf2d88_801e_11ec_828b_0242ac1c0002row1_col4{\n",
              "            background-color:  #fbfd66;\n",
              "            color:  #000000;\n",
              "        }#T_e3cf2d88_801e_11ec_828b_0242ac1c0002row2_col0,#T_e3cf2d88_801e_11ec_828b_0242ac1c0002row5_col1{\n",
              "            background-color:  #e6f266;\n",
              "            color:  #000000;\n",
              "        }#T_e3cf2d88_801e_11ec_828b_0242ac1c0002row2_col1{\n",
              "            background-color:  #f0f866;\n",
              "            color:  #000000;\n",
              "        }#T_e3cf2d88_801e_11ec_828b_0242ac1c0002row2_col2{\n",
              "            background-color:  #eef666;\n",
              "            color:  #000000;\n",
              "        }#T_e3cf2d88_801e_11ec_828b_0242ac1c0002row2_col4,#T_e3cf2d88_801e_11ec_828b_0242ac1c0002row7_col0{\n",
              "            background-color:  #edf666;\n",
              "            color:  #000000;\n",
              "        }#T_e3cf2d88_801e_11ec_828b_0242ac1c0002row4_col1{\n",
              "            background-color:  #fefe66;\n",
              "            color:  #000000;\n",
              "        }#T_e3cf2d88_801e_11ec_828b_0242ac1c0002row5_col0{\n",
              "            background-color:  #e3f166;\n",
              "            color:  #000000;\n",
              "        }#T_e3cf2d88_801e_11ec_828b_0242ac1c0002row5_col2{\n",
              "            background-color:  #ecf666;\n",
              "            color:  #000000;\n",
              "        }#T_e3cf2d88_801e_11ec_828b_0242ac1c0002row5_col3{\n",
              "            background-color:  #f8fc66;\n",
              "            color:  #000000;\n",
              "        }#T_e3cf2d88_801e_11ec_828b_0242ac1c0002row5_col4{\n",
              "            background-color:  #ebf566;\n",
              "            color:  #000000;\n",
              "        }#T_e3cf2d88_801e_11ec_828b_0242ac1c0002row6_col1{\n",
              "            background-color:  #cde666;\n",
              "            color:  #000000;\n",
              "        }#T_e3cf2d88_801e_11ec_828b_0242ac1c0002row6_col2{\n",
              "            background-color:  #e4f266;\n",
              "            color:  #000000;\n",
              "        }#T_e3cf2d88_801e_11ec_828b_0242ac1c0002row6_col3{\n",
              "            background-color:  #bede66;\n",
              "            color:  #000000;\n",
              "        }#T_e3cf2d88_801e_11ec_828b_0242ac1c0002row6_col4{\n",
              "            background-color:  #dbed66;\n",
              "            color:  #000000;\n",
              "        }#T_e3cf2d88_801e_11ec_828b_0242ac1c0002row7_col1{\n",
              "            background-color:  #bdde66;\n",
              "            color:  #000000;\n",
              "        }#T_e3cf2d88_801e_11ec_828b_0242ac1c0002row7_col2{\n",
              "            background-color:  #d3e966;\n",
              "            color:  #000000;\n",
              "        }#T_e3cf2d88_801e_11ec_828b_0242ac1c0002row7_col3,#T_e3cf2d88_801e_11ec_828b_0242ac1c0002row8_col1{\n",
              "            background-color:  #dcee66;\n",
              "            color:  #000000;\n",
              "        }#T_e3cf2d88_801e_11ec_828b_0242ac1c0002row7_col4{\n",
              "            background-color:  #d1e866;\n",
              "            color:  #000000;\n",
              "        }#T_e3cf2d88_801e_11ec_828b_0242ac1c0002row8_col0{\n",
              "            background-color:  #52a866;\n",
              "            color:  #000000;\n",
              "        }#T_e3cf2d88_801e_11ec_828b_0242ac1c0002row8_col2{\n",
              "            background-color:  #81c066;\n",
              "            color:  #000000;\n",
              "        }#T_e3cf2d88_801e_11ec_828b_0242ac1c0002row8_col3{\n",
              "            background-color:  #b0d866;\n",
              "            color:  #000000;\n",
              "        }#T_e3cf2d88_801e_11ec_828b_0242ac1c0002row8_col4{\n",
              "            background-color:  #9acc66;\n",
              "            color:  #000000;\n",
              "        }#T_e3cf2d88_801e_11ec_828b_0242ac1c0002row9_col0,#T_e3cf2d88_801e_11ec_828b_0242ac1c0002row9_col1,#T_e3cf2d88_801e_11ec_828b_0242ac1c0002row9_col2,#T_e3cf2d88_801e_11ec_828b_0242ac1c0002row9_col3,#T_e3cf2d88_801e_11ec_828b_0242ac1c0002row9_col4{\n",
              "            background-color:  #008066;\n",
              "            color:  #f1f1f1;\n",
              "        }</style><table id=\"T_e3cf2d88_801e_11ec_828b_0242ac1c0002\" class=\"dataframe\"><thead>    <tr>        <th class=\"blank\" ></th>        <th class=\"index_name level0\" >Sex</th>        <th class=\"col_heading level0 col0\" colspan=2>female</th>        <th class=\"col_heading level0 col2\" colspan=2>male</th>        <th class=\"col_heading level0 col4\" >All</th>    </tr>    <tr>        <th class=\"blank\" ></th>        <th class=\"index_name level1\" >Survived</th>        <th class=\"col_heading level1 col0\" >0</th>        <th class=\"col_heading level1 col1\" >1</th>        <th class=\"col_heading level1 col2\" >0</th>        <th class=\"col_heading level1 col3\" >1</th>        <th class=\"col_heading level1 col4\" ></th>    </tr>    <tr>        <th class=\"index_name level0\" >Embarked</th>        <th class=\"index_name level1\" >Pclass</th>        <th class=\"blank\" ></th>        <th class=\"blank\" ></th>        <th class=\"blank\" ></th>        <th class=\"blank\" ></th>        <th class=\"blank\" ></th>    </tr></thead><tbody>\n",
              "                <tr>\n",
              "                        <th id=\"T_e3cf2d88_801e_11ec_828b_0242ac1c0002level0_row0\" class=\"row_heading level0 row0\" rowspan=3>C</th>\n",
              "                        <th id=\"T_e3cf2d88_801e_11ec_828b_0242ac1c0002level1_row0\" class=\"row_heading level1 row0\" >1</th>\n",
              "                        <td id=\"T_e3cf2d88_801e_11ec_828b_0242ac1c0002row0_col0\" class=\"data row0 col0\" >1</td>\n",
              "                        <td id=\"T_e3cf2d88_801e_11ec_828b_0242ac1c0002row0_col1\" class=\"data row0 col1\" >42</td>\n",
              "                        <td id=\"T_e3cf2d88_801e_11ec_828b_0242ac1c0002row0_col2\" class=\"data row0 col2\" >25</td>\n",
              "                        <td id=\"T_e3cf2d88_801e_11ec_828b_0242ac1c0002row0_col3\" class=\"data row0 col3\" >17</td>\n",
              "                        <td id=\"T_e3cf2d88_801e_11ec_828b_0242ac1c0002row0_col4\" class=\"data row0 col4\" >85</td>\n",
              "            </tr>\n",
              "            <tr>\n",
              "                                <th id=\"T_e3cf2d88_801e_11ec_828b_0242ac1c0002level1_row1\" class=\"row_heading level1 row1\" >2</th>\n",
              "                        <td id=\"T_e3cf2d88_801e_11ec_828b_0242ac1c0002row1_col0\" class=\"data row1 col0\" >0</td>\n",
              "                        <td id=\"T_e3cf2d88_801e_11ec_828b_0242ac1c0002row1_col1\" class=\"data row1 col1\" >7</td>\n",
              "                        <td id=\"T_e3cf2d88_801e_11ec_828b_0242ac1c0002row1_col2\" class=\"data row1 col2\" >8</td>\n",
              "                        <td id=\"T_e3cf2d88_801e_11ec_828b_0242ac1c0002row1_col3\" class=\"data row1 col3\" >2</td>\n",
              "                        <td id=\"T_e3cf2d88_801e_11ec_828b_0242ac1c0002row1_col4\" class=\"data row1 col4\" >17</td>\n",
              "            </tr>\n",
              "            <tr>\n",
              "                                <th id=\"T_e3cf2d88_801e_11ec_828b_0242ac1c0002level1_row2\" class=\"row_heading level1 row2\" >3</th>\n",
              "                        <td id=\"T_e3cf2d88_801e_11ec_828b_0242ac1c0002row2_col0\" class=\"data row2 col0\" >8</td>\n",
              "                        <td id=\"T_e3cf2d88_801e_11ec_828b_0242ac1c0002row2_col1\" class=\"data row2 col1\" >15</td>\n",
              "                        <td id=\"T_e3cf2d88_801e_11ec_828b_0242ac1c0002row2_col2\" class=\"data row2 col2\" >33</td>\n",
              "                        <td id=\"T_e3cf2d88_801e_11ec_828b_0242ac1c0002row2_col3\" class=\"data row2 col3\" >10</td>\n",
              "                        <td id=\"T_e3cf2d88_801e_11ec_828b_0242ac1c0002row2_col4\" class=\"data row2 col4\" >66</td>\n",
              "            </tr>\n",
              "            <tr>\n",
              "                        <th id=\"T_e3cf2d88_801e_11ec_828b_0242ac1c0002level0_row3\" class=\"row_heading level0 row3\" rowspan=3>Q</th>\n",
              "                        <th id=\"T_e3cf2d88_801e_11ec_828b_0242ac1c0002level1_row3\" class=\"row_heading level1 row3\" >1</th>\n",
              "                        <td id=\"T_e3cf2d88_801e_11ec_828b_0242ac1c0002row3_col0\" class=\"data row3 col0\" >0</td>\n",
              "                        <td id=\"T_e3cf2d88_801e_11ec_828b_0242ac1c0002row3_col1\" class=\"data row3 col1\" >1</td>\n",
              "                        <td id=\"T_e3cf2d88_801e_11ec_828b_0242ac1c0002row3_col2\" class=\"data row3 col2\" >1</td>\n",
              "                        <td id=\"T_e3cf2d88_801e_11ec_828b_0242ac1c0002row3_col3\" class=\"data row3 col3\" >0</td>\n",
              "                        <td id=\"T_e3cf2d88_801e_11ec_828b_0242ac1c0002row3_col4\" class=\"data row3 col4\" >2</td>\n",
              "            </tr>\n",
              "            <tr>\n",
              "                                <th id=\"T_e3cf2d88_801e_11ec_828b_0242ac1c0002level1_row4\" class=\"row_heading level1 row4\" >2</th>\n",
              "                        <td id=\"T_e3cf2d88_801e_11ec_828b_0242ac1c0002row4_col0\" class=\"data row4 col0\" >0</td>\n",
              "                        <td id=\"T_e3cf2d88_801e_11ec_828b_0242ac1c0002row4_col1\" class=\"data row4 col1\" >2</td>\n",
              "                        <td id=\"T_e3cf2d88_801e_11ec_828b_0242ac1c0002row4_col2\" class=\"data row4 col2\" >1</td>\n",
              "                        <td id=\"T_e3cf2d88_801e_11ec_828b_0242ac1c0002row4_col3\" class=\"data row4 col3\" >0</td>\n",
              "                        <td id=\"T_e3cf2d88_801e_11ec_828b_0242ac1c0002row4_col4\" class=\"data row4 col4\" >3</td>\n",
              "            </tr>\n",
              "            <tr>\n",
              "                                <th id=\"T_e3cf2d88_801e_11ec_828b_0242ac1c0002level1_row5\" class=\"row_heading level1 row5\" >3</th>\n",
              "                        <td id=\"T_e3cf2d88_801e_11ec_828b_0242ac1c0002row5_col0\" class=\"data row5 col0\" >9</td>\n",
              "                        <td id=\"T_e3cf2d88_801e_11ec_828b_0242ac1c0002row5_col1\" class=\"data row5 col1\" >24</td>\n",
              "                        <td id=\"T_e3cf2d88_801e_11ec_828b_0242ac1c0002row5_col2\" class=\"data row5 col2\" >36</td>\n",
              "                        <td id=\"T_e3cf2d88_801e_11ec_828b_0242ac1c0002row5_col3\" class=\"data row5 col3\" >3</td>\n",
              "                        <td id=\"T_e3cf2d88_801e_11ec_828b_0242ac1c0002row5_col4\" class=\"data row5 col4\" >72</td>\n",
              "            </tr>\n",
              "            <tr>\n",
              "                        <th id=\"T_e3cf2d88_801e_11ec_828b_0242ac1c0002level0_row6\" class=\"row_heading level0 row6\" rowspan=3>S</th>\n",
              "                        <th id=\"T_e3cf2d88_801e_11ec_828b_0242ac1c0002level1_row6\" class=\"row_heading level1 row6\" >1</th>\n",
              "                        <td id=\"T_e3cf2d88_801e_11ec_828b_0242ac1c0002row6_col0\" class=\"data row6 col0\" >2</td>\n",
              "                        <td id=\"T_e3cf2d88_801e_11ec_828b_0242ac1c0002row6_col1\" class=\"data row6 col1\" >46</td>\n",
              "                        <td id=\"T_e3cf2d88_801e_11ec_828b_0242ac1c0002row6_col2\" class=\"data row6 col2\" >51</td>\n",
              "                        <td id=\"T_e3cf2d88_801e_11ec_828b_0242ac1c0002row6_col3\" class=\"data row6 col3\" >28</td>\n",
              "                        <td id=\"T_e3cf2d88_801e_11ec_828b_0242ac1c0002row6_col4\" class=\"data row6 col4\" >127</td>\n",
              "            </tr>\n",
              "            <tr>\n",
              "                                <th id=\"T_e3cf2d88_801e_11ec_828b_0242ac1c0002level1_row7\" class=\"row_heading level1 row7\" >2</th>\n",
              "                        <td id=\"T_e3cf2d88_801e_11ec_828b_0242ac1c0002row7_col0\" class=\"data row7 col0\" >6</td>\n",
              "                        <td id=\"T_e3cf2d88_801e_11ec_828b_0242ac1c0002row7_col1\" class=\"data row7 col1\" >61</td>\n",
              "                        <td id=\"T_e3cf2d88_801e_11ec_828b_0242ac1c0002row7_col2\" class=\"data row7 col2\" >82</td>\n",
              "                        <td id=\"T_e3cf2d88_801e_11ec_828b_0242ac1c0002row7_col3\" class=\"data row7 col3\" >15</td>\n",
              "                        <td id=\"T_e3cf2d88_801e_11ec_828b_0242ac1c0002row7_col4\" class=\"data row7 col4\" >164</td>\n",
              "            </tr>\n",
              "            <tr>\n",
              "                                <th id=\"T_e3cf2d88_801e_11ec_828b_0242ac1c0002level1_row8\" class=\"row_heading level1 row8\" >3</th>\n",
              "                        <td id=\"T_e3cf2d88_801e_11ec_828b_0242ac1c0002row8_col0\" class=\"data row8 col0\" >55</td>\n",
              "                        <td id=\"T_e3cf2d88_801e_11ec_828b_0242ac1c0002row8_col1\" class=\"data row8 col1\" >33</td>\n",
              "                        <td id=\"T_e3cf2d88_801e_11ec_828b_0242ac1c0002row8_col2\" class=\"data row8 col2\" >231</td>\n",
              "                        <td id=\"T_e3cf2d88_801e_11ec_828b_0242ac1c0002row8_col3\" class=\"data row8 col3\" >34</td>\n",
              "                        <td id=\"T_e3cf2d88_801e_11ec_828b_0242ac1c0002row8_col4\" class=\"data row8 col4\" >353</td>\n",
              "            </tr>\n",
              "            <tr>\n",
              "                        <th id=\"T_e3cf2d88_801e_11ec_828b_0242ac1c0002level0_row9\" class=\"row_heading level0 row9\" >All</th>\n",
              "                        <th id=\"T_e3cf2d88_801e_11ec_828b_0242ac1c0002level1_row9\" class=\"row_heading level1 row9\" ></th>\n",
              "                        <td id=\"T_e3cf2d88_801e_11ec_828b_0242ac1c0002row9_col0\" class=\"data row9 col0\" >81</td>\n",
              "                        <td id=\"T_e3cf2d88_801e_11ec_828b_0242ac1c0002row9_col1\" class=\"data row9 col1\" >231</td>\n",
              "                        <td id=\"T_e3cf2d88_801e_11ec_828b_0242ac1c0002row9_col2\" class=\"data row9 col2\" >468</td>\n",
              "                        <td id=\"T_e3cf2d88_801e_11ec_828b_0242ac1c0002row9_col3\" class=\"data row9 col3\" >109</td>\n",
              "                        <td id=\"T_e3cf2d88_801e_11ec_828b_0242ac1c0002row9_col4\" class=\"data row9 col4\" >889</td>\n",
              "            </tr>\n",
              "    </tbody></table>"
            ],
            "text/plain": [
              "<pandas.io.formats.style.Styler at 0x7f01fcee17d0>"
            ]
          },
          "metadata": {},
          "execution_count": 81
        }
      ]
    },
    {
      "cell_type": "markdown",
      "source": [
        "- 세 승선지 모두 3등급의 여성 승객 생존율이 1,2 등급에 비해 떨어진다."
      ],
      "metadata": {
        "id": "9nFXzSNtVctW"
      }
    },
    {
      "cell_type": "markdown",
      "source": [
        "## 6.Feature Engineering & Initial Modeling 변수 선택 및 모델 구축"
      ],
      "metadata": {
        "id": "WTtsfPvXCxLT"
      }
    },
    {
      "cell_type": "markdown",
      "source": [
        "- 학습 모델에 학습을 시킬 데이터는 모두 숫자형 데이터이어야 한다.\n",
        "- 사용할 Feature만 선택하기"
      ],
      "metadata": {
        "id": "rKB6xqVQFvLl"
      }
    },
    {
      "cell_type": "code",
      "source": [
        "feature_1 = ['Survived','Pclass','Sex','Age_bin','Family_size','Fare','Embarked','Name_fix']"
      ],
      "metadata": {
        "id": "oOR0DANyFtVy"
      },
      "execution_count": null,
      "outputs": []
    },
    {
      "cell_type": "code",
      "source": [
        ""
      ],
      "metadata": {
        "id": "vlWFb0DHFt2G"
      },
      "execution_count": null,
      "outputs": []
    },
    {
      "cell_type": "markdown",
      "source": [
        "### 1) sklearn.linear_model.LogisticRegression()\n",
        "- 로지스틱 회귀 모형\n",
        "- 0과 1사이의 값을 산출"
      ],
      "metadata": {
        "id": "wcn-oYK5C1gw"
      }
    },
    {
      "cell_type": "markdown",
      "source": [
        "### 2) sklearn.tree.DecisionTreeClassifier()\n",
        "- 의사결정 나무 모델\n"
      ],
      "metadata": {
        "id": "8k4gCKL5C8-G"
      }
    },
    {
      "cell_type": "markdown",
      "source": [
        "## 7.Model Tuning & Evaluation 모델 학습 및 검증"
      ],
      "metadata": {
        "id": "NBdhxiDCDVAR"
      }
    },
    {
      "cell_type": "markdown",
      "source": [
        "### 1) model.fit()\n",
        "- 모델 학습"
      ],
      "metadata": {
        "id": "yeRUitP2Damo"
      }
    },
    {
      "cell_type": "markdown",
      "source": [
        "### 2) model.predict()\n",
        "- 모델 예측"
      ],
      "metadata": {
        "id": "l6-vqGeVDeIZ"
      }
    },
    {
      "cell_type": "markdown",
      "source": [
        "### 3) model.predict_proba()\n",
        "- 모델 예측"
      ],
      "metadata": {
        "id": "d3Oj18qNDgz3"
      }
    },
    {
      "cell_type": "markdown",
      "source": [
        "### 4) pd.DataFrame.to_csv()\n",
        "- csv파일 저장"
      ],
      "metadata": {
        "id": "nmnObRq9DjWt"
      }
    },
    {
      "cell_type": "markdown",
      "source": [
        "## 8.Conclusion & Discussion 결과 및 결언"
      ],
      "metadata": {
        "id": "fRicyUloDm9x"
      }
    }
  ]
}